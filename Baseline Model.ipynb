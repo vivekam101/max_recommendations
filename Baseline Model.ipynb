{
 "cells": [
  {
   "cell_type": "code",
   "execution_count": 40,
   "metadata": {},
   "outputs": [],
   "source": [
    "import numpy as np\n",
    "import pandas as pd\n",
    "from tqdm import tqdm"
   ]
  },
  {
   "cell_type": "markdown",
   "metadata": {},
   "source": [
    "# CUSTOMER PURCHASE PATTERN"
   ]
  },
  {
   "cell_type": "code",
   "execution_count": 41,
   "metadata": {},
   "outputs": [],
   "source": [
    "cust_txn = pd.read_excel(\"data/Customer_Transaction.xlsx\")"
   ]
  },
  {
   "cell_type": "code",
   "execution_count": 42,
   "metadata": {},
   "outputs": [
    {
     "data": {
      "text/html": [
       "<div>\n",
       "<style scoped>\n",
       "    .dataframe tbody tr th:only-of-type {\n",
       "        vertical-align: middle;\n",
       "    }\n",
       "\n",
       "    .dataframe tbody tr th {\n",
       "        vertical-align: top;\n",
       "    }\n",
       "\n",
       "    .dataframe thead th {\n",
       "        text-align: right;\n",
       "    }\n",
       "</style>\n",
       "<table border=\"1\" class=\"dataframe\">\n",
       "  <thead>\n",
       "    <tr style=\"text-align: right;\">\n",
       "      <th></th>\n",
       "      <th>Territory</th>\n",
       "      <th>Business</th>\n",
       "      <th>Year</th>\n",
       "      <th>Week</th>\n",
       "      <th>Store_Code</th>\n",
       "      <th>City_Name</th>\n",
       "      <th>Store_Type</th>\n",
       "      <th>Transaction_Type</th>\n",
       "      <th>Return_Reason</th>\n",
       "      <th>Customer_ID</th>\n",
       "      <th>Invoices</th>\n",
       "      <th>Item_Count</th>\n",
       "      <th>Revenue</th>\n",
       "      <th>Discount</th>\n",
       "      <th>Units_Sold</th>\n",
       "    </tr>\n",
       "  </thead>\n",
       "  <tbody>\n",
       "    <tr>\n",
       "      <th>0</th>\n",
       "      <td>United Arab Emirates</td>\n",
       "      <td>Max</td>\n",
       "      <td>2010</td>\n",
       "      <td>0</td>\n",
       "      <td>60065</td>\n",
       "      <td>Dubai</td>\n",
       "      <td>Stand alone</td>\n",
       "      <td>Return</td>\n",
       "      <td>Size Problem</td>\n",
       "      <td>1800000058056860</td>\n",
       "      <td>1</td>\n",
       "      <td>3</td>\n",
       "      <td>-169.0</td>\n",
       "      <td>0.0</td>\n",
       "      <td>-3</td>\n",
       "    </tr>\n",
       "    <tr>\n",
       "      <th>1</th>\n",
       "      <td>United Arab Emirates</td>\n",
       "      <td>Max</td>\n",
       "      <td>2016</td>\n",
       "      <td>0</td>\n",
       "      <td>60053</td>\n",
       "      <td>NaN</td>\n",
       "      <td>NaN</td>\n",
       "      <td>Purchase</td>\n",
       "      <td>NaN</td>\n",
       "      <td>1800000020917140</td>\n",
       "      <td>1</td>\n",
       "      <td>1</td>\n",
       "      <td>0.0</td>\n",
       "      <td>0.0</td>\n",
       "      <td>0</td>\n",
       "    </tr>\n",
       "  </tbody>\n",
       "</table>\n",
       "</div>"
      ],
      "text/plain": [
       "              Territory Business  Year  Week  Store_Code City_Name  \\\n",
       "0  United Arab Emirates      Max  2010     0       60065     Dubai   \n",
       "1  United Arab Emirates      Max  2016     0       60053       NaN   \n",
       "\n",
       "    Store_Type Transaction_Type Return_Reason       Customer_ID  Invoices  \\\n",
       "0  Stand alone           Return  Size Problem  1800000058056860         1   \n",
       "1          NaN         Purchase           NaN  1800000020917140         1   \n",
       "\n",
       "   Item_Count  Revenue  Discount  Units_Sold  \n",
       "0           3   -169.0       0.0          -3  \n",
       "1           1      0.0       0.0           0  "
      ]
     },
     "execution_count": 42,
     "metadata": {},
     "output_type": "execute_result"
    }
   ],
   "source": [
    "cust_txn.head(2)"
   ]
  },
  {
   "cell_type": "code",
   "execution_count": 43,
   "metadata": {},
   "outputs": [
    {
     "data": {
      "text/plain": [
       "544649"
      ]
     },
     "execution_count": 43,
     "metadata": {},
     "output_type": "execute_result"
    }
   ],
   "source": [
    "len(cust_txn)"
   ]
  },
  {
   "cell_type": "code",
   "execution_count": 44,
   "metadata": {},
   "outputs": [
    {
     "data": {
      "text/plain": [
       "array(['Dubai', nan, 'Abu Dhabi', 'Ajman', 'Al Ain', 'Fujairah',\n",
       "       'Ras Al Khaimah', 'Sharjah'], dtype=object)"
      ]
     },
     "execution_count": 44,
     "metadata": {},
     "output_type": "execute_result"
    }
   ],
   "source": [
    "cust_txn.City_Name.unique()"
   ]
  },
  {
   "cell_type": "code",
   "execution_count": 45,
   "metadata": {},
   "outputs": [
    {
     "data": {
      "text/plain": [
       "array(['Return', 'Purchase'], dtype=object)"
      ]
     },
     "execution_count": 45,
     "metadata": {},
     "output_type": "execute_result"
    }
   ],
   "source": [
    "cust_txn.Transaction_Type.unique()"
   ]
  },
  {
   "cell_type": "code",
   "execution_count": 46,
   "metadata": {},
   "outputs": [
    {
     "data": {
      "text/plain": [
       "53"
      ]
     },
     "execution_count": 46,
     "metadata": {},
     "output_type": "execute_result"
    }
   ],
   "source": [
    "cust_txn.Week.max()"
   ]
  },
  {
   "cell_type": "code",
   "execution_count": 47,
   "metadata": {},
   "outputs": [],
   "source": [
    "# dropping columns which has no distinct values or not useful\n",
    "cust_txn.drop(['Territory', 'Business', 'Units_Sold', 'Transaction_Type', 'City_Name', 'Store_Type'],\\\n",
    "              axis=1, inplace=True)"
   ]
  },
  {
   "cell_type": "code",
   "execution_count": 48,
   "metadata": {},
   "outputs": [],
   "source": [
    "cust_group = cust_txn.groupby(['Customer_ID']).sum()"
   ]
  },
  {
   "cell_type": "code",
   "execution_count": 49,
   "metadata": {},
   "outputs": [],
   "source": [
    "cust_txn.Return_Reason.fillna('None', inplace=True)"
   ]
  },
  {
   "cell_type": "code",
   "execution_count": 50,
   "metadata": {},
   "outputs": [],
   "source": [
    "def  check_return_reason(x):\n",
    "    for char in x:\n",
    "        if char != 'None':\n",
    "            return 1\n",
    "    return 0"
   ]
  },
  {
   "cell_type": "code",
   "execution_count": 51,
   "metadata": {},
   "outputs": [],
   "source": [
    "cust_group[['Last_Pur_Year', 'Return_Reason']] = cust_txn.groupby(['Customer_ID']).\\\n",
    "                                            agg({'Year': lambda x: 2018 - max(x), \n",
    "                                                   'Return_Reason': check_return_reason})"
   ]
  },
  {
   "cell_type": "code",
   "execution_count": 52,
   "metadata": {},
   "outputs": [],
   "source": [
    "cust_group.reset_index(inplace=True)"
   ]
  },
  {
   "cell_type": "code",
   "execution_count": 53,
   "metadata": {},
   "outputs": [],
   "source": [
    "cust_group.drop(\"Store_Code\", inplace=True, axis=1)"
   ]
  },
  {
   "cell_type": "code",
   "execution_count": 54,
   "metadata": {},
   "outputs": [
    {
     "data": {
      "text/html": [
       "<div>\n",
       "<style scoped>\n",
       "    .dataframe tbody tr th:only-of-type {\n",
       "        vertical-align: middle;\n",
       "    }\n",
       "\n",
       "    .dataframe tbody tr th {\n",
       "        vertical-align: top;\n",
       "    }\n",
       "\n",
       "    .dataframe thead th {\n",
       "        text-align: right;\n",
       "    }\n",
       "</style>\n",
       "<table border=\"1\" class=\"dataframe\">\n",
       "  <thead>\n",
       "    <tr style=\"text-align: right;\">\n",
       "      <th></th>\n",
       "      <th>Customer_ID</th>\n",
       "      <th>Year</th>\n",
       "      <th>Week</th>\n",
       "      <th>Invoices</th>\n",
       "      <th>Item_Count</th>\n",
       "      <th>Revenue</th>\n",
       "      <th>Discount</th>\n",
       "      <th>Last_Pur_Year</th>\n",
       "      <th>Return_Reason</th>\n",
       "    </tr>\n",
       "  </thead>\n",
       "  <tbody>\n",
       "    <tr>\n",
       "      <th>0</th>\n",
       "      <td>1800000006365760</td>\n",
       "      <td>8066</td>\n",
       "      <td>110</td>\n",
       "      <td>5</td>\n",
       "      <td>38</td>\n",
       "      <td>1117.00</td>\n",
       "      <td>56.0</td>\n",
       "      <td>1</td>\n",
       "      <td>0</td>\n",
       "    </tr>\n",
       "    <tr>\n",
       "      <th>1</th>\n",
       "      <td>1800000006365820</td>\n",
       "      <td>2016</td>\n",
       "      <td>21</td>\n",
       "      <td>1</td>\n",
       "      <td>6</td>\n",
       "      <td>260.00</td>\n",
       "      <td>92.0</td>\n",
       "      <td>2</td>\n",
       "      <td>0</td>\n",
       "    </tr>\n",
       "    <tr>\n",
       "      <th>2</th>\n",
       "      <td>1800000006366060</td>\n",
       "      <td>12096</td>\n",
       "      <td>135</td>\n",
       "      <td>7</td>\n",
       "      <td>23</td>\n",
       "      <td>607.00</td>\n",
       "      <td>140.0</td>\n",
       "      <td>2</td>\n",
       "      <td>0</td>\n",
       "    </tr>\n",
       "    <tr>\n",
       "      <th>3</th>\n",
       "      <td>1800000006366230</td>\n",
       "      <td>12099</td>\n",
       "      <td>199</td>\n",
       "      <td>6</td>\n",
       "      <td>23</td>\n",
       "      <td>643.80</td>\n",
       "      <td>66.2</td>\n",
       "      <td>1</td>\n",
       "      <td>0</td>\n",
       "    </tr>\n",
       "    <tr>\n",
       "      <th>4</th>\n",
       "      <td>1800000006366570</td>\n",
       "      <td>20163</td>\n",
       "      <td>258</td>\n",
       "      <td>11</td>\n",
       "      <td>45</td>\n",
       "      <td>1285.01</td>\n",
       "      <td>90.0</td>\n",
       "      <td>1</td>\n",
       "      <td>1</td>\n",
       "    </tr>\n",
       "  </tbody>\n",
       "</table>\n",
       "</div>"
      ],
      "text/plain": [
       "        Customer_ID   Year  Week  Invoices  Item_Count  Revenue  Discount  \\\n",
       "0  1800000006365760   8066   110         5          38  1117.00      56.0   \n",
       "1  1800000006365820   2016    21         1           6   260.00      92.0   \n",
       "2  1800000006366060  12096   135         7          23   607.00     140.0   \n",
       "3  1800000006366230  12099   199         6          23   643.80      66.2   \n",
       "4  1800000006366570  20163   258        11          45  1285.01      90.0   \n",
       "\n",
       "   Last_Pur_Year  Return_Reason  \n",
       "0              1              0  \n",
       "1              2              0  \n",
       "2              2              0  \n",
       "3              1              0  \n",
       "4              1              1  "
      ]
     },
     "execution_count": 54,
     "metadata": {},
     "output_type": "execute_result"
    }
   ],
   "source": [
    "cust_group.head()"
   ]
  },
  {
   "cell_type": "code",
   "execution_count": 55,
   "metadata": {},
   "outputs": [],
   "source": [
    "cust_group.drop(['Year'], inplace=True, axis=1)"
   ]
  },
  {
   "cell_type": "code",
   "execution_count": 56,
   "metadata": {},
   "outputs": [
    {
     "data": {
      "text/plain": [
       "count    100000.000000\n",
       "mean        146.376210\n",
       "std         184.881066\n",
       "min           0.000000\n",
       "25%          39.000000\n",
       "50%          83.000000\n",
       "75%         183.000000\n",
       "max        3350.000000\n",
       "Name: Week, dtype: float64"
      ]
     },
     "execution_count": 56,
     "metadata": {},
     "output_type": "execute_result"
    }
   ],
   "source": [
    "cust_group.Week.describe()"
   ]
  },
  {
   "cell_type": "code",
   "execution_count": 57,
   "metadata": {},
   "outputs": [],
   "source": [
    "cust_group.loc[cust_group.Invoices==1, \"Invoices\"] = 0\n",
    "cust_group.loc[np.logical_and(cust_group.Invoices > 1,  cust_group.Invoices < 3), \"Invoices\"] = 1\n",
    "cust_group.loc[np.logical_and(cust_group.Invoices >= 3,  cust_group.Invoices < 8), \"Invoices\"] = 2\n",
    "cust_group.loc[cust_group.Invoices >= 8, \"Invoices\"] = 3"
   ]
  },
  {
   "cell_type": "code",
   "execution_count": 58,
   "metadata": {},
   "outputs": [],
   "source": [
    "cust_group.loc[np.logical_and(cust_group.Item_Count >= 1,  cust_group.Item_Count < 5), \"Item_Count\"] = 0\n",
    "cust_group.loc[np.logical_and(cust_group.Item_Count >= 5,  cust_group.Item_Count < 14), \"Item_Count\"] = 1\n",
    "cust_group.loc[np.logical_and(cust_group.Item_Count >= 14,  cust_group.Item_Count < 35), \"Item_Count\"] = 2\n",
    "cust_group.loc[cust_group.Item_Count >= 35, \"Item_Count\"] = 3"
   ]
  },
  {
   "cell_type": "code",
   "execution_count": 59,
   "metadata": {},
   "outputs": [],
   "source": [
    "cust_group.loc[cust_group.Revenue < 130, \"Revenue\"] = 0\n",
    "cust_group.loc[np.logical_and(cust_group.Revenue >= 130,  cust_group.Item_Count < 349), \"Revenue\"] = 1\n",
    "cust_group.loc[np.logical_and(cust_group.Revenue >= 349,  cust_group.Item_Count < 881), \"Revenue\"] = 2\n",
    "cust_group.loc[cust_group.Revenue >= 881, \"Revenue\"] = 3"
   ]
  },
  {
   "cell_type": "code",
   "execution_count": 60,
   "metadata": {},
   "outputs": [],
   "source": [
    "cust_group.loc[cust_group.Discount < 4, \"Discount\"] = 0\n",
    "cust_group.loc[np.logical_and(cust_group.Discount >= 4,  cust_group.Discount < 39), \"Discount\"] = 1\n",
    "cust_group.loc[np.logical_and(cust_group.Discount >= 39,  cust_group.Discount < 145), \"Discount\"] = 2\n",
    "cust_group.loc[cust_group.Discount >= 145, \"Discount\"] = 3"
   ]
  },
  {
   "cell_type": "code",
   "execution_count": 61,
   "metadata": {},
   "outputs": [],
   "source": [
    "cust_group.loc[cust_group.Discount < 39, \"Week\"] = 0\n",
    "cust_group.loc[np.logical_and(cust_group.Week >= 39,  cust_group.Discount < 83), \"Week\"] = 1\n",
    "cust_group.loc[np.logical_and(cust_group.Week >= 83,  cust_group.Discount < 183), \"Week\"] = 2\n",
    "cust_group.loc[cust_group.Week >= 183, \"Week\"] = 3"
   ]
  },
  {
   "cell_type": "code",
   "execution_count": 62,
   "metadata": {},
   "outputs": [
    {
     "data": {
      "text/html": [
       "<div>\n",
       "<style scoped>\n",
       "    .dataframe tbody tr th:only-of-type {\n",
       "        vertical-align: middle;\n",
       "    }\n",
       "\n",
       "    .dataframe tbody tr th {\n",
       "        vertical-align: top;\n",
       "    }\n",
       "\n",
       "    .dataframe thead th {\n",
       "        text-align: right;\n",
       "    }\n",
       "</style>\n",
       "<table border=\"1\" class=\"dataframe\">\n",
       "  <thead>\n",
       "    <tr style=\"text-align: right;\">\n",
       "      <th></th>\n",
       "      <th>Customer_ID</th>\n",
       "      <th>Week</th>\n",
       "      <th>Invoices</th>\n",
       "      <th>Item_Count</th>\n",
       "      <th>Revenue</th>\n",
       "      <th>Discount</th>\n",
       "      <th>Last_Pur_Year</th>\n",
       "      <th>Return_Reason</th>\n",
       "    </tr>\n",
       "  </thead>\n",
       "  <tbody>\n",
       "    <tr>\n",
       "      <th>count</th>\n",
       "      <td>1.000000e+05</td>\n",
       "      <td>100000.0</td>\n",
       "      <td>100000.000000</td>\n",
       "      <td>100000.000000</td>\n",
       "      <td>100000.000000</td>\n",
       "      <td>100000.000000</td>\n",
       "      <td>100000.000000</td>\n",
       "      <td>100000.000000</td>\n",
       "    </tr>\n",
       "    <tr>\n",
       "      <th>mean</th>\n",
       "      <td>1.800000e+15</td>\n",
       "      <td>0.0</td>\n",
       "      <td>1.587130</td>\n",
       "      <td>1.540330</td>\n",
       "      <td>0.751450</td>\n",
       "      <td>1.520070</td>\n",
       "      <td>1.229770</td>\n",
       "      <td>0.198450</td>\n",
       "    </tr>\n",
       "    <tr>\n",
       "      <th>std</th>\n",
       "      <td>8.334842e+07</td>\n",
       "      <td>0.0</td>\n",
       "      <td>1.129877</td>\n",
       "      <td>1.098283</td>\n",
       "      <td>0.432174</td>\n",
       "      <td>1.103272</td>\n",
       "      <td>0.420687</td>\n",
       "      <td>0.398835</td>\n",
       "    </tr>\n",
       "    <tr>\n",
       "      <th>min</th>\n",
       "      <td>1.800000e+15</td>\n",
       "      <td>0.0</td>\n",
       "      <td>0.000000</td>\n",
       "      <td>0.000000</td>\n",
       "      <td>0.000000</td>\n",
       "      <td>0.000000</td>\n",
       "      <td>1.000000</td>\n",
       "      <td>0.000000</td>\n",
       "    </tr>\n",
       "    <tr>\n",
       "      <th>25%</th>\n",
       "      <td>1.800000e+15</td>\n",
       "      <td>0.0</td>\n",
       "      <td>0.000000</td>\n",
       "      <td>1.000000</td>\n",
       "      <td>1.000000</td>\n",
       "      <td>1.000000</td>\n",
       "      <td>1.000000</td>\n",
       "      <td>0.000000</td>\n",
       "    </tr>\n",
       "    <tr>\n",
       "      <th>50%</th>\n",
       "      <td>1.800000e+15</td>\n",
       "      <td>0.0</td>\n",
       "      <td>2.000000</td>\n",
       "      <td>2.000000</td>\n",
       "      <td>1.000000</td>\n",
       "      <td>2.000000</td>\n",
       "      <td>1.000000</td>\n",
       "      <td>0.000000</td>\n",
       "    </tr>\n",
       "    <tr>\n",
       "      <th>75%</th>\n",
       "      <td>1.800000e+15</td>\n",
       "      <td>0.0</td>\n",
       "      <td>3.000000</td>\n",
       "      <td>3.000000</td>\n",
       "      <td>1.000000</td>\n",
       "      <td>3.000000</td>\n",
       "      <td>1.000000</td>\n",
       "      <td>0.000000</td>\n",
       "    </tr>\n",
       "    <tr>\n",
       "      <th>max</th>\n",
       "      <td>1.800000e+15</td>\n",
       "      <td>0.0</td>\n",
       "      <td>3.000000</td>\n",
       "      <td>3.000000</td>\n",
       "      <td>1.000000</td>\n",
       "      <td>3.000000</td>\n",
       "      <td>2.000000</td>\n",
       "      <td>1.000000</td>\n",
       "    </tr>\n",
       "  </tbody>\n",
       "</table>\n",
       "</div>"
      ],
      "text/plain": [
       "        Customer_ID      Week       Invoices     Item_Count        Revenue  \\\n",
       "count  1.000000e+05  100000.0  100000.000000  100000.000000  100000.000000   \n",
       "mean   1.800000e+15       0.0       1.587130       1.540330       0.751450   \n",
       "std    8.334842e+07       0.0       1.129877       1.098283       0.432174   \n",
       "min    1.800000e+15       0.0       0.000000       0.000000       0.000000   \n",
       "25%    1.800000e+15       0.0       0.000000       1.000000       1.000000   \n",
       "50%    1.800000e+15       0.0       2.000000       2.000000       1.000000   \n",
       "75%    1.800000e+15       0.0       3.000000       3.000000       1.000000   \n",
       "max    1.800000e+15       0.0       3.000000       3.000000       1.000000   \n",
       "\n",
       "            Discount  Last_Pur_Year  Return_Reason  \n",
       "count  100000.000000  100000.000000  100000.000000  \n",
       "mean        1.520070       1.229770       0.198450  \n",
       "std         1.103272       0.420687       0.398835  \n",
       "min         0.000000       1.000000       0.000000  \n",
       "25%         1.000000       1.000000       0.000000  \n",
       "50%         2.000000       1.000000       0.000000  \n",
       "75%         3.000000       1.000000       0.000000  \n",
       "max         3.000000       2.000000       1.000000  "
      ]
     },
     "execution_count": 62,
     "metadata": {},
     "output_type": "execute_result"
    }
   ],
   "source": [
    "cust_group.describe()"
   ]
  },
  {
   "cell_type": "markdown",
   "metadata": {},
   "source": [
    "# Find Customer - Store Code from transaction "
   ]
  },
  {
   "cell_type": "code",
   "execution_count": 63,
   "metadata": {},
   "outputs": [],
   "source": [
    "# cust_txn = pd.read_excel(\"data/Customer_Transaction.xlsx\")"
   ]
  },
  {
   "cell_type": "code",
   "execution_count": 64,
   "metadata": {},
   "outputs": [
    {
     "data": {
      "text/plain": [
       "Year             544649\n",
       "Week             544649\n",
       "Store_Code       544649\n",
       "Return_Reason    544649\n",
       "Customer_ID      544649\n",
       "Invoices         544649\n",
       "Item_Count       544649\n",
       "Revenue          544649\n",
       "Discount         544649\n",
       "dtype: int64"
      ]
     },
     "execution_count": 64,
     "metadata": {},
     "output_type": "execute_result"
    }
   ],
   "source": [
    "cust_txn.count()"
   ]
  },
  {
   "cell_type": "code",
   "execution_count": 65,
   "metadata": {},
   "outputs": [],
   "source": [
    "cust_txn_group = cust_txn.groupby(['Customer_ID','Store_Code']).size().reset_index()"
   ]
  },
  {
   "cell_type": "code",
   "execution_count": 66,
   "metadata": {},
   "outputs": [
    {
     "data": {
      "text/html": [
       "<div>\n",
       "<style scoped>\n",
       "    .dataframe tbody tr th:only-of-type {\n",
       "        vertical-align: middle;\n",
       "    }\n",
       "\n",
       "    .dataframe tbody tr th {\n",
       "        vertical-align: top;\n",
       "    }\n",
       "\n",
       "    .dataframe thead th {\n",
       "        text-align: right;\n",
       "    }\n",
       "</style>\n",
       "<table border=\"1\" class=\"dataframe\">\n",
       "  <thead>\n",
       "    <tr style=\"text-align: right;\">\n",
       "      <th></th>\n",
       "      <th>Customer_ID</th>\n",
       "      <th>Store_Code</th>\n",
       "      <th>0</th>\n",
       "    </tr>\n",
       "  </thead>\n",
       "  <tbody>\n",
       "    <tr>\n",
       "      <th>0</th>\n",
       "      <td>1800000006365760</td>\n",
       "      <td>60067</td>\n",
       "      <td>4</td>\n",
       "    </tr>\n",
       "    <tr>\n",
       "      <th>1</th>\n",
       "      <td>1800000006365820</td>\n",
       "      <td>60054</td>\n",
       "      <td>1</td>\n",
       "    </tr>\n",
       "    <tr>\n",
       "      <th>2</th>\n",
       "      <td>1800000006366060</td>\n",
       "      <td>60066</td>\n",
       "      <td>1</td>\n",
       "    </tr>\n",
       "    <tr>\n",
       "      <th>3</th>\n",
       "      <td>1800000006366060</td>\n",
       "      <td>60069</td>\n",
       "      <td>1</td>\n",
       "    </tr>\n",
       "    <tr>\n",
       "      <th>4</th>\n",
       "      <td>1800000006366060</td>\n",
       "      <td>60079</td>\n",
       "      <td>2</td>\n",
       "    </tr>\n",
       "  </tbody>\n",
       "</table>\n",
       "</div>"
      ],
      "text/plain": [
       "        Customer_ID  Store_Code  0\n",
       "0  1800000006365760       60067  4\n",
       "1  1800000006365820       60054  1\n",
       "2  1800000006366060       60066  1\n",
       "3  1800000006366060       60069  1\n",
       "4  1800000006366060       60079  2"
      ]
     },
     "execution_count": 66,
     "metadata": {},
     "output_type": "execute_result"
    }
   ],
   "source": [
    "cust_txn_group.head()"
   ]
  },
  {
   "cell_type": "code",
   "execution_count": 67,
   "metadata": {},
   "outputs": [],
   "source": [
    "cust_txn_group['Prediction'] = 1"
   ]
  },
  {
   "cell_type": "code",
   "execution_count": 68,
   "metadata": {},
   "outputs": [
    {
     "data": {
      "text/plain": [
       "Customer_ID    184288\n",
       "Store_Code     184288\n",
       "0              184288\n",
       "Prediction     184288\n",
       "dtype: int64"
      ]
     },
     "execution_count": 68,
     "metadata": {},
     "output_type": "execute_result"
    }
   ],
   "source": [
    "cust_txn_group.count()"
   ]
  },
  {
   "cell_type": "code",
   "execution_count": 69,
   "metadata": {},
   "outputs": [],
   "source": [
    "# cust_txn_group.Store_Code.unique()"
   ]
  },
  {
   "cell_type": "code",
   "execution_count": 70,
   "metadata": {},
   "outputs": [],
   "source": [
    "# prepare dataset for other combinations to 0\n",
    "from itertools import product\n",
    "Customer_ID = cust_txn_group.Customer_ID.unique()\n",
    "Store_Code = cust_txn_group.Store_Code.unique()\n",
    "cust_train = pd.DataFrame(list(product(Customer_ID, Store_Code)), columns=['Customer_ID', 'Store_Code'])"
   ]
  },
  {
   "cell_type": "code",
   "execution_count": 71,
   "metadata": {},
   "outputs": [],
   "source": [
    "cust_train_merged = pd.merge(cust_train, cust_txn_group, how='left', left_on=['Customer_ID','Store_Code'], right_on=['Customer_ID','Store_Code'] )"
   ]
  },
  {
   "cell_type": "code",
   "execution_count": 72,
   "metadata": {},
   "outputs": [
    {
     "data": {
      "text/html": [
       "<div>\n",
       "<style scoped>\n",
       "    .dataframe tbody tr th:only-of-type {\n",
       "        vertical-align: middle;\n",
       "    }\n",
       "\n",
       "    .dataframe tbody tr th {\n",
       "        vertical-align: top;\n",
       "    }\n",
       "\n",
       "    .dataframe thead th {\n",
       "        text-align: right;\n",
       "    }\n",
       "</style>\n",
       "<table border=\"1\" class=\"dataframe\">\n",
       "  <thead>\n",
       "    <tr style=\"text-align: right;\">\n",
       "      <th></th>\n",
       "      <th>Customer_ID</th>\n",
       "      <th>Store_Code</th>\n",
       "      <th>0</th>\n",
       "      <th>Prediction</th>\n",
       "    </tr>\n",
       "  </thead>\n",
       "  <tbody>\n",
       "    <tr>\n",
       "      <th>0</th>\n",
       "      <td>1800000006365760</td>\n",
       "      <td>60067</td>\n",
       "      <td>4.0</td>\n",
       "      <td>1.0</td>\n",
       "    </tr>\n",
       "    <tr>\n",
       "      <th>1</th>\n",
       "      <td>1800000006365760</td>\n",
       "      <td>60054</td>\n",
       "      <td>NaN</td>\n",
       "      <td>NaN</td>\n",
       "    </tr>\n",
       "    <tr>\n",
       "      <th>2</th>\n",
       "      <td>1800000006365760</td>\n",
       "      <td>60066</td>\n",
       "      <td>NaN</td>\n",
       "      <td>NaN</td>\n",
       "    </tr>\n",
       "    <tr>\n",
       "      <th>3</th>\n",
       "      <td>1800000006365760</td>\n",
       "      <td>60069</td>\n",
       "      <td>NaN</td>\n",
       "      <td>NaN</td>\n",
       "    </tr>\n",
       "    <tr>\n",
       "      <th>4</th>\n",
       "      <td>1800000006365760</td>\n",
       "      <td>60079</td>\n",
       "      <td>NaN</td>\n",
       "      <td>NaN</td>\n",
       "    </tr>\n",
       "  </tbody>\n",
       "</table>\n",
       "</div>"
      ],
      "text/plain": [
       "        Customer_ID  Store_Code    0  Prediction\n",
       "0  1800000006365760       60067  4.0         1.0\n",
       "1  1800000006365760       60054  NaN         NaN\n",
       "2  1800000006365760       60066  NaN         NaN\n",
       "3  1800000006365760       60069  NaN         NaN\n",
       "4  1800000006365760       60079  NaN         NaN"
      ]
     },
     "execution_count": 72,
     "metadata": {},
     "output_type": "execute_result"
    }
   ],
   "source": [
    "cust_train_merged.head()"
   ]
  },
  {
   "cell_type": "code",
   "execution_count": 73,
   "metadata": {},
   "outputs": [],
   "source": [
    "cust_train_merged.fillna(0.0, inplace=True)"
   ]
  },
  {
   "cell_type": "code",
   "execution_count": 74,
   "metadata": {},
   "outputs": [],
   "source": [
    "cust_train_merged.drop(0, axis=1, inplace=True)"
   ]
  },
  {
   "cell_type": "code",
   "execution_count": 75,
   "metadata": {},
   "outputs": [],
   "source": [
    "cust_train_merged.drop(cust_train_merged[cust_train_merged.Store_Code == 60084].index, axis=0, inplace=True)"
   ]
  },
  {
   "cell_type": "code",
   "execution_count": 76,
   "metadata": {},
   "outputs": [],
   "source": [
    "# sample zero entries to balance the dataset\n",
    "# balanced_set = cust_train_merged[cust_train_merged.Prediction == 0.0]"
   ]
  },
  {
   "cell_type": "code",
   "execution_count": 77,
   "metadata": {},
   "outputs": [],
   "source": [
    "# cust_train_merged = balanced_set.append(cust_train_merged[cust_train_merged.Prediction == 1.0])"
   ]
  },
  {
   "cell_type": "code",
   "execution_count": 78,
   "metadata": {},
   "outputs": [
    {
     "data": {
      "text/plain": [
       "0.0    2915713\n",
       "1.0     184287\n",
       "Name: Prediction, dtype: int64"
      ]
     },
     "execution_count": 78,
     "metadata": {},
     "output_type": "execute_result"
    }
   ],
   "source": [
    "cust_train_merged.Prediction.value_counts()"
   ]
  },
  {
   "cell_type": "markdown",
   "metadata": {},
   "source": [
    "# EDA on Store"
   ]
  },
  {
   "cell_type": "code",
   "execution_count": null,
   "metadata": {},
   "outputs": [],
   "source": [
    "store = pd.read_excel('data/Store_Master.xlsx')"
   ]
  },
  {
   "cell_type": "code",
   "execution_count": null,
   "metadata": {},
   "outputs": [],
   "source": [
    "store.Geo_Field.fillna(\"UNKNOWN\", inplace=True)"
   ]
  },
  {
   "cell_type": "code",
   "execution_count": null,
   "metadata": {},
   "outputs": [],
   "source": [
    "store.tail()"
   ]
  },
  {
   "cell_type": "code",
   "execution_count": null,
   "metadata": {},
   "outputs": [],
   "source": [
    "store[\"isMall\"] = 1\n",
    "store.loc[store[\"Mall_Name\"] == \"STANDALONE\" ,\"isMall\"] = 0"
   ]
  },
  {
   "cell_type": "code",
   "execution_count": null,
   "metadata": {},
   "outputs": [],
   "source": [
    "# dropping columns which has no distinct values or not useful\n",
    "store.drop(['Territory', 'Business', 'Store_Name', 'Mall_Name', 'Train_Test_Store','Customer_Count', 'Total_Revenue',\\\n",
    "            'Store_Launch_Date', 'Region' ], inplace=True, axis=1)"
   ]
  },
  {
   "cell_type": "code",
   "execution_count": null,
   "metadata": {},
   "outputs": [],
   "source": [
    "# store['Region'] = store.Region.map(lambda x: x.split('-')[1])"
   ]
  },
  {
   "cell_type": "code",
   "execution_count": null,
   "metadata": {},
   "outputs": [],
   "source": [
    "store.Store_Format.fillna(\"Mall Stores\", inplace=True)"
   ]
  },
  {
   "cell_type": "code",
   "execution_count": null,
   "metadata": {},
   "outputs": [],
   "source": [
    "store.tail()"
   ]
  },
  {
   "cell_type": "code",
   "execution_count": null,
   "metadata": {},
   "outputs": [],
   "source": [
    "# store_objects = store.select_dtypes(include=['object'])"
   ]
  },
  {
   "cell_type": "code",
   "execution_count": null,
   "metadata": {},
   "outputs": [],
   "source": [
    "# store['Region']  = store['Region'].astype('category')\n",
    "# store['Store_Format']  = store['Store_Format'].astype('category')"
   ]
  },
  {
   "cell_type": "code",
   "execution_count": null,
   "metadata": {},
   "outputs": [],
   "source": [
    "# store['Region']  = store['Region'].cat.codes"
   ]
  },
  {
   "cell_type": "code",
   "execution_count": null,
   "metadata": {},
   "outputs": [],
   "source": [
    "# store['Store_Format']  = store['Store_Format'].cat.codes"
   ]
  },
  {
   "cell_type": "code",
   "execution_count": null,
   "metadata": {},
   "outputs": [],
   "source": [
    "store.isnull().sum()"
   ]
  },
  {
   "cell_type": "code",
   "execution_count": null,
   "metadata": {},
   "outputs": [],
   "source": [
    "store.head()"
   ]
  },
  {
   "cell_type": "markdown",
   "metadata": {},
   "source": [
    "# Demographics"
   ]
  },
  {
   "cell_type": "code",
   "execution_count": null,
   "metadata": {},
   "outputs": [],
   "source": [
    "cust_demo = pd.read_excel(\"data/Customer_Demographics.xlsx\")"
   ]
  },
  {
   "cell_type": "code",
   "execution_count": null,
   "metadata": {},
   "outputs": [],
   "source": [
    "cust_demo.head()"
   ]
  },
  {
   "cell_type": "code",
   "execution_count": null,
   "metadata": {},
   "outputs": [],
   "source": [
    "# removing columns which dont have distinct values or not relevant\n",
    "cust_demo.drop(['Territory', 'Birth_date'], axis=1, inplace=True)"
   ]
  },
  {
   "cell_type": "code",
   "execution_count": null,
   "metadata": {},
   "outputs": [],
   "source": [
    "cust_demo.Age.describe()"
   ]
  },
  {
   "cell_type": "code",
   "execution_count": null,
   "metadata": {},
   "outputs": [],
   "source": [
    "cust_demo[cust_demo.Age<10]['Marital_Status'].head(5)"
   ]
  },
  {
   "cell_type": "code",
   "execution_count": null,
   "metadata": {},
   "outputs": [],
   "source": [
    "cust_demo.isnull().sum()"
   ]
  },
  {
   "cell_type": "code",
   "execution_count": null,
   "metadata": {},
   "outputs": [],
   "source": [
    "# converting dates to (current date - the date)days to see how active the user is\n",
    "for i in ['First_txn_dt', 'Last_accr_txn_dt', 'Last_rdm_txn_dt']:\n",
    "    cust_demo[i] = pd.to_datetime(cust_demo[i], format=\"%d%b%Y:%H:%M:%S\")"
   ]
  },
  {
   "cell_type": "code",
   "execution_count": null,
   "metadata": {},
   "outputs": [],
   "source": [
    "cust_demo.First_txn_dt.dtypes"
   ]
  },
  {
   "cell_type": "code",
   "execution_count": null,
   "metadata": {},
   "outputs": [],
   "source": [
    "import datetime\n",
    "NOW = datetime.datetime.now()\n",
    "cust_demo['First_txn_days'] = cust_demo.First_txn_dt.map(lambda x: (NOW - x).days)\n",
    "cust_demo['Last_accr_txn_days'] = cust_demo.Last_accr_txn_dt.map(lambda x: (NOW - x).days)\n",
    "# cust_demo['Last_rdm_txn_days'] = cust_demo.Last_rdm_txn_dt.map(lambda x: (NOW - x).days)"
   ]
  },
  {
   "cell_type": "code",
   "execution_count": null,
   "metadata": {},
   "outputs": [],
   "source": [
    "# removing columns which dont have distinct values or not relevant\n",
    "cust_demo.drop(['First_txn_dt', 'Last_accr_txn_dt', 'Last_rdm_txn_dt'], axis=1, inplace=True)"
   ]
  },
  {
   "cell_type": "code",
   "execution_count": null,
   "metadata": {},
   "outputs": [],
   "source": [
    "# fill Nan in dates to 9999\n",
    "\n",
    "cust_demo.First_txn_days.fillna(99999, inplace=True)\n",
    "cust_demo.Last_accr_txn_days.fillna(99999, inplace=True)\n",
    "# cust_demo.Last_rdm_txn_days.fillna(99999, inplace=True)"
   ]
  },
  {
   "cell_type": "code",
   "execution_count": null,
   "metadata": {},
   "outputs": [],
   "source": [
    "# reset null value in points to 0\n",
    "cust_demo.Points.fillna(0, inplace=True)"
   ]
  },
  {
   "cell_type": "code",
   "execution_count": null,
   "metadata": {},
   "outputs": [],
   "source": [
    "ids = cust_demo[cust_demo.Age==1]"
   ]
  },
  {
   "cell_type": "code",
   "execution_count": null,
   "metadata": {},
   "outputs": [],
   "source": [
    "ids.head()"
   ]
  },
  {
   "cell_type": "code",
   "execution_count": null,
   "metadata": {},
   "outputs": [],
   "source": [
    "# verified data with age == 1 has transactions in customer transaction table so we cant ignore them\n",
    "pd.merge(ids, cust_txn, how='inner', left_on='Customer_ID', right_on='Customer_ID').head(5)"
   ]
  },
  {
   "cell_type": "code",
   "execution_count": null,
   "metadata": {},
   "outputs": [],
   "source": [
    "cust_demo.Age.isnull().sum()/cust_demo.Age.count()"
   ]
  },
  {
   "cell_type": "code",
   "execution_count": null,
   "metadata": {},
   "outputs": [],
   "source": [
    "import seaborn as sns\n",
    "import matplotlib.pyplot as plt\n",
    "# plt.xlim(20, 60)\n",
    "Agenan=cust_demo[~np.isnan(cust_demo.Age)]\n",
    "sns.distplot(Agenan.Age)"
   ]
  },
  {
   "cell_type": "code",
   "execution_count": null,
   "metadata": {},
   "outputs": [],
   "source": [
    "# removing columns which dont have distinct values or not relevant\n",
    "cust_demo.drop(['Age'], axis=1, inplace=True)"
   ]
  },
  {
   "cell_type": "code",
   "execution_count": null,
   "metadata": {},
   "outputs": [],
   "source": [
    "cust_demo.isnull().sum()"
   ]
  },
  {
   "cell_type": "code",
   "execution_count": null,
   "metadata": {},
   "outputs": [],
   "source": [
    "cust_demo.head()"
   ]
  },
  {
   "cell_type": "code",
   "execution_count": null,
   "metadata": {},
   "outputs": [],
   "source": [
    "cust_train_merged.count()"
   ]
  },
  {
   "cell_type": "code",
   "execution_count": null,
   "metadata": {},
   "outputs": [],
   "source": [
    "cust_demo.to_csv(\"cust_demo.csv\", index=False)"
   ]
  },
  {
   "cell_type": "markdown",
   "metadata": {},
   "source": [
    "# MERGE and TRAIN SET"
   ]
  },
  {
   "cell_type": "code",
   "execution_count": 79,
   "metadata": {},
   "outputs": [],
   "source": [
    "cust_demo = pd.read_csv(\"cust_df.csv\")"
   ]
  },
  {
   "cell_type": "code",
   "execution_count": 80,
   "metadata": {},
   "outputs": [],
   "source": [
    "store = pd.read_csv(\"store_df.csv\")"
   ]
  },
  {
   "cell_type": "code",
   "execution_count": 81,
   "metadata": {},
   "outputs": [
    {
     "data": {
      "text/html": [
       "<div>\n",
       "<style scoped>\n",
       "    .dataframe tbody tr th:only-of-type {\n",
       "        vertical-align: middle;\n",
       "    }\n",
       "\n",
       "    .dataframe tbody tr th {\n",
       "        vertical-align: top;\n",
       "    }\n",
       "\n",
       "    .dataframe thead th {\n",
       "        text-align: right;\n",
       "    }\n",
       "</style>\n",
       "<table border=\"1\" class=\"dataframe\">\n",
       "  <thead>\n",
       "    <tr style=\"text-align: right;\">\n",
       "      <th></th>\n",
       "      <th>Region_Code</th>\n",
       "      <th>Store_Code</th>\n",
       "      <th>Store_Format</th>\n",
       "      <th>Sales_Per_Day</th>\n",
       "      <th>Geo_Field</th>\n",
       "      <th>Store_Size_Sq_Ft</th>\n",
       "      <th>isMall</th>\n",
       "    </tr>\n",
       "  </thead>\n",
       "  <tbody>\n",
       "    <tr>\n",
       "      <th>0</th>\n",
       "      <td>1</td>\n",
       "      <td>60077</td>\n",
       "      <td>0</td>\n",
       "      <td>0.0</td>\n",
       "      <td>24</td>\n",
       "      <td>0.0</td>\n",
       "      <td>1</td>\n",
       "    </tr>\n",
       "    <tr>\n",
       "      <th>1</th>\n",
       "      <td>5</td>\n",
       "      <td>60073</td>\n",
       "      <td>0</td>\n",
       "      <td>0.0</td>\n",
       "      <td>22</td>\n",
       "      <td>2.0</td>\n",
       "      <td>1</td>\n",
       "    </tr>\n",
       "    <tr>\n",
       "      <th>2</th>\n",
       "      <td>0</td>\n",
       "      <td>60065</td>\n",
       "      <td>0</td>\n",
       "      <td>3.0</td>\n",
       "      <td>12</td>\n",
       "      <td>2.0</td>\n",
       "      <td>1</td>\n",
       "    </tr>\n",
       "    <tr>\n",
       "      <th>3</th>\n",
       "      <td>0</td>\n",
       "      <td>60219</td>\n",
       "      <td>1</td>\n",
       "      <td>0.0</td>\n",
       "      <td>17</td>\n",
       "      <td>1.0</td>\n",
       "      <td>1</td>\n",
       "    </tr>\n",
       "    <tr>\n",
       "      <th>4</th>\n",
       "      <td>4</td>\n",
       "      <td>60071</td>\n",
       "      <td>0</td>\n",
       "      <td>2.0</td>\n",
       "      <td>26</td>\n",
       "      <td>2.0</td>\n",
       "      <td>0</td>\n",
       "    </tr>\n",
       "  </tbody>\n",
       "</table>\n",
       "</div>"
      ],
      "text/plain": [
       "   Region_Code  Store_Code  Store_Format  Sales_Per_Day  Geo_Field  \\\n",
       "0            1       60077             0            0.0         24   \n",
       "1            5       60073             0            0.0         22   \n",
       "2            0       60065             0            3.0         12   \n",
       "3            0       60219             1            0.0         17   \n",
       "4            4       60071             0            2.0         26   \n",
       "\n",
       "   Store_Size_Sq_Ft  isMall  \n",
       "0               0.0       1  \n",
       "1               2.0       1  \n",
       "2               2.0       1  \n",
       "3               1.0       1  \n",
       "4               2.0       0  "
      ]
     },
     "execution_count": 81,
     "metadata": {},
     "output_type": "execute_result"
    }
   ],
   "source": [
    "store.head()"
   ]
  },
  {
   "cell_type": "code",
   "execution_count": 82,
   "metadata": {},
   "outputs": [],
   "source": [
    "train_df = pd.merge(cust_train_merged, cust_demo, how = 'left', left_on='Customer_ID', right_on='Customer_ID')"
   ]
  },
  {
   "cell_type": "code",
   "execution_count": 83,
   "metadata": {},
   "outputs": [
    {
     "data": {
      "text/html": [
       "<div>\n",
       "<style scoped>\n",
       "    .dataframe tbody tr th:only-of-type {\n",
       "        vertical-align: middle;\n",
       "    }\n",
       "\n",
       "    .dataframe tbody tr th {\n",
       "        vertical-align: top;\n",
       "    }\n",
       "\n",
       "    .dataframe thead th {\n",
       "        text-align: right;\n",
       "    }\n",
       "</style>\n",
       "<table border=\"1\" class=\"dataframe\">\n",
       "  <thead>\n",
       "    <tr style=\"text-align: right;\">\n",
       "      <th></th>\n",
       "      <th>Customer_ID</th>\n",
       "      <th>Store_Code</th>\n",
       "      <th>Prediction</th>\n",
       "      <th>Nationality</th>\n",
       "      <th>Income_Range</th>\n",
       "      <th>Job_Type</th>\n",
       "      <th>Marital_Status</th>\n",
       "      <th>Gender</th>\n",
       "      <th>State</th>\n",
       "      <th>Language</th>\n",
       "      <th>Loyalty_Status</th>\n",
       "      <th>Points</th>\n",
       "      <th>First_txn_days</th>\n",
       "      <th>Last_accr_txn_days</th>\n",
       "      <th>Age</th>\n",
       "    </tr>\n",
       "  </thead>\n",
       "  <tbody>\n",
       "    <tr>\n",
       "      <th>0</th>\n",
       "      <td>1800000006365760</td>\n",
       "      <td>60067</td>\n",
       "      <td>1.0</td>\n",
       "      <td>52</td>\n",
       "      <td>4</td>\n",
       "      <td>4</td>\n",
       "      <td>0</td>\n",
       "      <td>1</td>\n",
       "      <td>0</td>\n",
       "      <td>1</td>\n",
       "      <td>0</td>\n",
       "      <td>4</td>\n",
       "      <td>3</td>\n",
       "      <td>0</td>\n",
       "      <td>3</td>\n",
       "    </tr>\n",
       "    <tr>\n",
       "      <th>1</th>\n",
       "      <td>1800000006365760</td>\n",
       "      <td>60054</td>\n",
       "      <td>0.0</td>\n",
       "      <td>52</td>\n",
       "      <td>4</td>\n",
       "      <td>4</td>\n",
       "      <td>0</td>\n",
       "      <td>1</td>\n",
       "      <td>0</td>\n",
       "      <td>1</td>\n",
       "      <td>0</td>\n",
       "      <td>4</td>\n",
       "      <td>3</td>\n",
       "      <td>0</td>\n",
       "      <td>3</td>\n",
       "    </tr>\n",
       "  </tbody>\n",
       "</table>\n",
       "</div>"
      ],
      "text/plain": [
       "        Customer_ID  Store_Code  Prediction  Nationality  Income_Range  \\\n",
       "0  1800000006365760       60067         1.0           52             4   \n",
       "1  1800000006365760       60054         0.0           52             4   \n",
       "\n",
       "   Job_Type  Marital_Status  Gender  State  Language  Loyalty_Status  Points  \\\n",
       "0         4               0       1      0         1               0       4   \n",
       "1         4               0       1      0         1               0       4   \n",
       "\n",
       "   First_txn_days  Last_accr_txn_days  Age  \n",
       "0               3                   0    3  \n",
       "1               3                   0    3  "
      ]
     },
     "execution_count": 83,
     "metadata": {},
     "output_type": "execute_result"
    }
   ],
   "source": [
    "train_df.head(2)"
   ]
  },
  {
   "cell_type": "code",
   "execution_count": 84,
   "metadata": {},
   "outputs": [],
   "source": [
    "train_cus_df = pd.merge(train_df, cust_group, how = 'left', left_on='Customer_ID', right_on='Customer_ID')"
   ]
  },
  {
   "cell_type": "code",
   "execution_count": 85,
   "metadata": {},
   "outputs": [],
   "source": [
    "# train_cus_df.to_csv(\"train_cus_df.csv\", index=False)"
   ]
  },
  {
   "cell_type": "code",
   "execution_count": 3,
   "metadata": {},
   "outputs": [],
   "source": [
    "# train_cus_df = pd.read_csv(\"train_cus_df.csv\")"
   ]
  },
  {
   "cell_type": "code",
   "execution_count": null,
   "metadata": {},
   "outputs": [],
   "source": [
    "# details of 60084 store is not in excel\n",
    "# for i in train_df.Store_Code.unique():\n",
    "#     for j in store.Store_Code.unique():\n",
    "#         if i==j:\n",
    "#             break\n",
    "#         else:\n",
    "#             pass\n",
    "# print(i)"
   ]
  },
  {
   "cell_type": "code",
   "execution_count": 86,
   "metadata": {},
   "outputs": [],
   "source": [
    "train_final_df = pd.merge(train_cus_df, store, how = 'left', left_on='Store_Code', right_on='Store_Code')"
   ]
  },
  {
   "cell_type": "code",
   "execution_count": 87,
   "metadata": {},
   "outputs": [],
   "source": [
    "train_final_df.to_csv(\"final_train.csv\", index=False)"
   ]
  },
  {
   "cell_type": "code",
   "execution_count": 88,
   "metadata": {},
   "outputs": [
    {
     "data": {
      "text/plain": [
       "28"
      ]
     },
     "execution_count": 88,
     "metadata": {},
     "output_type": "execute_result"
    }
   ],
   "source": [
    "len(train_final_df.columns)"
   ]
  },
  {
   "cell_type": "code",
   "execution_count": null,
   "metadata": {},
   "outputs": [],
   "source": [
    "# index_drop = train_final_df[train_final_df.Store_Code == 60084].index"
   ]
  },
  {
   "cell_type": "code",
   "execution_count": null,
   "metadata": {},
   "outputs": [],
   "source": [
    "# train_final_df.drop(index_drop, axis=0, inplace=True)"
   ]
  },
  {
   "cell_type": "code",
   "execution_count": null,
   "metadata": {},
   "outputs": [],
   "source": [
    "# train_final_df.to_csv(\"train_df.csv\", index=False)"
   ]
  },
  {
   "cell_type": "markdown",
   "metadata": {},
   "source": [
    "# TEST SET "
   ]
  },
  {
   "cell_type": "code",
   "execution_count": 89,
   "metadata": {},
   "outputs": [],
   "source": [
    "import pandas as pd\n",
    "test_df = pd.read_excel(\"data/Test_Set.xlsx\")"
   ]
  },
  {
   "cell_type": "code",
   "execution_count": 90,
   "metadata": {},
   "outputs": [
    {
     "data": {
      "text/plain": [
       "Customer_ID    400000\n",
       "Store_Code     400000\n",
       "dtype: int64"
      ]
     },
     "execution_count": 90,
     "metadata": {},
     "output_type": "execute_result"
    }
   ],
   "source": [
    "test_df.count()"
   ]
  },
  {
   "cell_type": "code",
   "execution_count": 91,
   "metadata": {},
   "outputs": [],
   "source": [
    "test_df_txn = pd.merge(test_df, cust_demo, how = 'left', left_on='Customer_ID', right_on='Customer_ID')"
   ]
  },
  {
   "cell_type": "code",
   "execution_count": 92,
   "metadata": {},
   "outputs": [],
   "source": [
    "test_df_cus = pd.merge(test_df_txn,cust_group , how = 'left', left_on='Customer_ID', right_on='Customer_ID')"
   ]
  },
  {
   "cell_type": "code",
   "execution_count": 93,
   "metadata": {},
   "outputs": [],
   "source": [
    "test_final_df = pd.merge(test_df_cus, store, how = 'left', left_on='Store_Code', right_on='Store_Code')"
   ]
  },
  {
   "cell_type": "code",
   "execution_count": 94,
   "metadata": {},
   "outputs": [
    {
     "data": {
      "text/plain": [
       "Customer_ID           400000\n",
       "Store_Code            400000\n",
       "Nationality           400000\n",
       "Income_Range          400000\n",
       "Job_Type              400000\n",
       "Marital_Status        400000\n",
       "Gender                400000\n",
       "State                 400000\n",
       "Language              400000\n",
       "Loyalty_Status        400000\n",
       "Points                400000\n",
       "First_txn_days        400000\n",
       "Last_accr_txn_days    400000\n",
       "Age                   400000\n",
       "Week                  400000\n",
       "Invoices              400000\n",
       "Item_Count            400000\n",
       "Revenue               400000\n",
       "Discount              400000\n",
       "Last_Pur_Year         400000\n",
       "Return_Reason         400000\n",
       "Region_Code           400000\n",
       "Store_Format          400000\n",
       "Sales_Per_Day         400000\n",
       "Geo_Field             400000\n",
       "Store_Size_Sq_Ft      400000\n",
       "isMall                400000\n",
       "dtype: int64"
      ]
     },
     "execution_count": 94,
     "metadata": {},
     "output_type": "execute_result"
    }
   ],
   "source": [
    "test_final_df.count()"
   ]
  },
  {
   "cell_type": "code",
   "execution_count": 95,
   "metadata": {},
   "outputs": [
    {
     "data": {
      "text/html": [
       "<div>\n",
       "<style scoped>\n",
       "    .dataframe tbody tr th:only-of-type {\n",
       "        vertical-align: middle;\n",
       "    }\n",
       "\n",
       "    .dataframe tbody tr th {\n",
       "        vertical-align: top;\n",
       "    }\n",
       "\n",
       "    .dataframe thead th {\n",
       "        text-align: right;\n",
       "    }\n",
       "</style>\n",
       "<table border=\"1\" class=\"dataframe\">\n",
       "  <thead>\n",
       "    <tr style=\"text-align: right;\">\n",
       "      <th></th>\n",
       "      <th>Customer_ID</th>\n",
       "      <th>Store_Code</th>\n",
       "      <th>Nationality</th>\n",
       "      <th>Income_Range</th>\n",
       "      <th>Job_Type</th>\n",
       "      <th>Marital_Status</th>\n",
       "      <th>Gender</th>\n",
       "      <th>State</th>\n",
       "      <th>Language</th>\n",
       "      <th>Loyalty_Status</th>\n",
       "      <th>...</th>\n",
       "      <th>Revenue</th>\n",
       "      <th>Discount</th>\n",
       "      <th>Last_Pur_Year</th>\n",
       "      <th>Return_Reason</th>\n",
       "      <th>Region_Code</th>\n",
       "      <th>Store_Format</th>\n",
       "      <th>Sales_Per_Day</th>\n",
       "      <th>Geo_Field</th>\n",
       "      <th>Store_Size_Sq_Ft</th>\n",
       "      <th>isMall</th>\n",
       "    </tr>\n",
       "  </thead>\n",
       "  <tbody>\n",
       "    <tr>\n",
       "      <th>0</th>\n",
       "      <td>1800000006365760</td>\n",
       "      <td>60298</td>\n",
       "      <td>52</td>\n",
       "      <td>4</td>\n",
       "      <td>4</td>\n",
       "      <td>0</td>\n",
       "      <td>1</td>\n",
       "      <td>0</td>\n",
       "      <td>1</td>\n",
       "      <td>0</td>\n",
       "      <td>...</td>\n",
       "      <td>1.0</td>\n",
       "      <td>2.0</td>\n",
       "      <td>1</td>\n",
       "      <td>0</td>\n",
       "      <td>5</td>\n",
       "      <td>0</td>\n",
       "      <td>3.0</td>\n",
       "      <td>21</td>\n",
       "      <td>1.0</td>\n",
       "      <td>1</td>\n",
       "    </tr>\n",
       "    <tr>\n",
       "      <th>1</th>\n",
       "      <td>1800000006365760</td>\n",
       "      <td>60299</td>\n",
       "      <td>52</td>\n",
       "      <td>4</td>\n",
       "      <td>4</td>\n",
       "      <td>0</td>\n",
       "      <td>1</td>\n",
       "      <td>0</td>\n",
       "      <td>1</td>\n",
       "      <td>0</td>\n",
       "      <td>...</td>\n",
       "      <td>1.0</td>\n",
       "      <td>2.0</td>\n",
       "      <td>1</td>\n",
       "      <td>0</td>\n",
       "      <td>1</td>\n",
       "      <td>0</td>\n",
       "      <td>3.0</td>\n",
       "      <td>1</td>\n",
       "      <td>0.0</td>\n",
       "      <td>1</td>\n",
       "    </tr>\n",
       "    <tr>\n",
       "      <th>2</th>\n",
       "      <td>1800000006365760</td>\n",
       "      <td>60300</td>\n",
       "      <td>52</td>\n",
       "      <td>4</td>\n",
       "      <td>4</td>\n",
       "      <td>0</td>\n",
       "      <td>1</td>\n",
       "      <td>0</td>\n",
       "      <td>1</td>\n",
       "      <td>0</td>\n",
       "      <td>...</td>\n",
       "      <td>1.0</td>\n",
       "      <td>2.0</td>\n",
       "      <td>1</td>\n",
       "      <td>0</td>\n",
       "      <td>1</td>\n",
       "      <td>0</td>\n",
       "      <td>3.0</td>\n",
       "      <td>9</td>\n",
       "      <td>1.0</td>\n",
       "      <td>1</td>\n",
       "    </tr>\n",
       "    <tr>\n",
       "      <th>3</th>\n",
       "      <td>1800000006365760</td>\n",
       "      <td>60301</td>\n",
       "      <td>52</td>\n",
       "      <td>4</td>\n",
       "      <td>4</td>\n",
       "      <td>0</td>\n",
       "      <td>1</td>\n",
       "      <td>0</td>\n",
       "      <td>1</td>\n",
       "      <td>0</td>\n",
       "      <td>...</td>\n",
       "      <td>1.0</td>\n",
       "      <td>2.0</td>\n",
       "      <td>1</td>\n",
       "      <td>0</td>\n",
       "      <td>1</td>\n",
       "      <td>0</td>\n",
       "      <td>3.0</td>\n",
       "      <td>7</td>\n",
       "      <td>3.0</td>\n",
       "      <td>1</td>\n",
       "    </tr>\n",
       "    <tr>\n",
       "      <th>4</th>\n",
       "      <td>1800000006365820</td>\n",
       "      <td>60298</td>\n",
       "      <td>73</td>\n",
       "      <td>4</td>\n",
       "      <td>4</td>\n",
       "      <td>0</td>\n",
       "      <td>0</td>\n",
       "      <td>0</td>\n",
       "      <td>0</td>\n",
       "      <td>1</td>\n",
       "      <td>...</td>\n",
       "      <td>1.0</td>\n",
       "      <td>2.0</td>\n",
       "      <td>2</td>\n",
       "      <td>0</td>\n",
       "      <td>5</td>\n",
       "      <td>0</td>\n",
       "      <td>3.0</td>\n",
       "      <td>21</td>\n",
       "      <td>1.0</td>\n",
       "      <td>1</td>\n",
       "    </tr>\n",
       "  </tbody>\n",
       "</table>\n",
       "<p>5 rows × 27 columns</p>\n",
       "</div>"
      ],
      "text/plain": [
       "        Customer_ID  Store_Code  Nationality  Income_Range  Job_Type  \\\n",
       "0  1800000006365760       60298           52             4         4   \n",
       "1  1800000006365760       60299           52             4         4   \n",
       "2  1800000006365760       60300           52             4         4   \n",
       "3  1800000006365760       60301           52             4         4   \n",
       "4  1800000006365820       60298           73             4         4   \n",
       "\n",
       "   Marital_Status  Gender  State  Language  Loyalty_Status   ...    Revenue  \\\n",
       "0               0       1      0         1               0   ...        1.0   \n",
       "1               0       1      0         1               0   ...        1.0   \n",
       "2               0       1      0         1               0   ...        1.0   \n",
       "3               0       1      0         1               0   ...        1.0   \n",
       "4               0       0      0         0               1   ...        1.0   \n",
       "\n",
       "   Discount  Last_Pur_Year  Return_Reason  Region_Code  Store_Format  \\\n",
       "0       2.0              1              0            5             0   \n",
       "1       2.0              1              0            1             0   \n",
       "2       2.0              1              0            1             0   \n",
       "3       2.0              1              0            1             0   \n",
       "4       2.0              2              0            5             0   \n",
       "\n",
       "   Sales_Per_Day  Geo_Field  Store_Size_Sq_Ft  isMall  \n",
       "0            3.0         21               1.0       1  \n",
       "1            3.0          1               0.0       1  \n",
       "2            3.0          9               1.0       1  \n",
       "3            3.0          7               3.0       1  \n",
       "4            3.0         21               1.0       1  \n",
       "\n",
       "[5 rows x 27 columns]"
      ]
     },
     "execution_count": 95,
     "metadata": {},
     "output_type": "execute_result"
    }
   ],
   "source": [
    "test_final_df.head()"
   ]
  },
  {
   "cell_type": "code",
   "execution_count": 96,
   "metadata": {},
   "outputs": [
    {
     "data": {
      "text/plain": [
       "Customer_ID           0\n",
       "Store_Code            0\n",
       "Nationality           0\n",
       "Income_Range          0\n",
       "Job_Type              0\n",
       "Marital_Status        0\n",
       "Gender                0\n",
       "State                 0\n",
       "Language              0\n",
       "Loyalty_Status        0\n",
       "Points                0\n",
       "First_txn_days        0\n",
       "Last_accr_txn_days    0\n",
       "Age                   0\n",
       "Week                  0\n",
       "Invoices              0\n",
       "Item_Count            0\n",
       "Revenue               0\n",
       "Discount              0\n",
       "Last_Pur_Year         0\n",
       "Return_Reason         0\n",
       "Region_Code           0\n",
       "Store_Format          0\n",
       "Sales_Per_Day         0\n",
       "Geo_Field             0\n",
       "Store_Size_Sq_Ft      0\n",
       "isMall                0\n",
       "dtype: int64"
      ]
     },
     "execution_count": 96,
     "metadata": {},
     "output_type": "execute_result"
    }
   ],
   "source": [
    "test_final_df.isnull().sum()"
   ]
  },
  {
   "cell_type": "code",
   "execution_count": 97,
   "metadata": {},
   "outputs": [],
   "source": [
    "# details of 60084 store is not in excel. skipping that store\n",
    "train_final_df.dropna(inplace=True)"
   ]
  },
  {
   "cell_type": "code",
   "execution_count": 99,
   "metadata": {},
   "outputs": [],
   "source": [
    "test_final_df.to_csv(\"final_test.csv\", index=False)"
   ]
  },
  {
   "cell_type": "code",
   "execution_count": 103,
   "metadata": {},
   "outputs": [
    {
     "data": {
      "text/plain": [
       "27"
      ]
     },
     "execution_count": 103,
     "metadata": {},
     "output_type": "execute_result"
    }
   ],
   "source": [
    "len(test_final_df.columns)"
   ]
  },
  {
   "cell_type": "code",
   "execution_count": null,
   "metadata": {},
   "outputs": [],
   "source": [
    "train_final_df.to_csv(\"train_df_w.csv\", index=False)\n",
    "test_final_df.to_csv(\"test_df_w.csv\", index=False)"
   ]
  },
  {
   "cell_type": "markdown",
   "metadata": {},
   "source": [
    "# MODELLING"
   ]
  },
  {
   "cell_type": "code",
   "execution_count": null,
   "metadata": {},
   "outputs": [],
   "source": [
    "ntrain = len(train_final_df)"
   ]
  },
  {
   "cell_type": "code",
   "execution_count": null,
   "metadata": {},
   "outputs": [],
   "source": [
    "ntest = len(test_final_df)"
   ]
  },
  {
   "cell_type": "code",
   "execution_count": null,
   "metadata": {},
   "outputs": [],
   "source": [
    "full_df = train_final_df.append(test_final_df)"
   ]
  },
  {
   "cell_type": "code",
   "execution_count": null,
   "metadata": {},
   "outputs": [],
   "source": [
    "ntrain"
   ]
  },
  {
   "cell_type": "code",
   "execution_count": null,
   "metadata": {},
   "outputs": [],
   "source": [
    "full_df.describe()"
   ]
  },
  {
   "cell_type": "code",
   "execution_count": null,
   "metadata": {},
   "outputs": [],
   "source": [
    "full_df.loc[full_df.Nationality.isin(['UNDEFINED', 'Unspecified']),'Nationality'] = \"UNKNOWN\""
   ]
  },
  {
   "cell_type": "code",
   "execution_count": null,
   "metadata": {},
   "outputs": [],
   "source": [
    "full_df.loc[full_df.Income_Range.isin(['Unspecified', 'Unknown']),'Income_Range'] = \"UNKNOWN\""
   ]
  },
  {
   "cell_type": "code",
   "execution_count": null,
   "metadata": {},
   "outputs": [],
   "source": [
    "full_df.loc[full_df.Job_Type.isin(['Unspecified', 'Others']),'Job_Type'] = \"UNKNOWN\""
   ]
  },
  {
   "cell_type": "code",
   "execution_count": null,
   "metadata": {},
   "outputs": [],
   "source": [
    "full_df.loc[full_df.Marital_Status.isin(['Unspecified', 'Others']),'Marital_Status'] = \"UNKNOWN\""
   ]
  },
  {
   "cell_type": "code",
   "execution_count": null,
   "metadata": {},
   "outputs": [],
   "source": [
    "full_df.loc[full_df.State.isin(['Unspecified', 'Others']),'State'] = \"UNKNOWN\""
   ]
  },
  {
   "cell_type": "code",
   "execution_count": null,
   "metadata": {},
   "outputs": [],
   "source": [
    "full_df[full_df.Income_Range == \"UNKNOWN\"]"
   ]
  },
  {
   "cell_type": "code",
   "execution_count": null,
   "metadata": {},
   "outputs": [],
   "source": [
    "full_df.Store_Format.value_counts()"
   ]
  },
  {
   "cell_type": "code",
   "execution_count": null,
   "metadata": {},
   "outputs": [],
   "source": [
    "# dropping customer id and Store Code\n",
    "# full_df.drop(['Customer_ID', 'Store_Code'], axis=1, inplace=True)"
   ]
  },
  {
   "cell_type": "code",
   "execution_count": null,
   "metadata": {},
   "outputs": [],
   "source": [
    "cols = ['Gender', 'Income_Range', 'Job_Type', 'Language', 'Loyalty_Status',\n",
    "       'Marital_Status', 'Nationality', 'State', 'Store_Format', 'Region_Code','Geo_Field' ]"
   ]
  },
  {
   "cell_type": "code",
   "execution_count": null,
   "metadata": {},
   "outputs": [],
   "source": [
    "for i in cols:\n",
    "    full_df[i] = full_df[i].astype('category')"
   ]
  },
  {
   "cell_type": "code",
   "execution_count": null,
   "metadata": {},
   "outputs": [],
   "source": [
    "from sklearn import preprocessing\n",
    "le = preprocessing.LabelEncoder()\n",
    "full_df[cols] = full_df[cols].apply(le.fit_transform)"
   ]
  },
  {
   "cell_type": "code",
   "execution_count": null,
   "metadata": {},
   "outputs": [],
   "source": [
    "full_df.head(2)"
   ]
  },
  {
   "cell_type": "code",
   "execution_count": null,
   "metadata": {},
   "outputs": [],
   "source": [
    "full_df.columns"
   ]
  },
  {
   "cell_type": "code",
   "execution_count": null,
   "metadata": {},
   "outputs": [],
   "source": [
    "# Splitting back to train set\n",
    "train_df = full_df[:ntrain]\n",
    "test_df = full_df[ntrain:]\n",
    "y = train_df['Prediction']\n",
    "X = train_df.drop('Prediction', axis=1)"
   ]
  },
  {
   "cell_type": "code",
   "execution_count": null,
   "metadata": {},
   "outputs": [],
   "source": [
    "train_df.to_csv(\"train_df.csv\", index=False)\n",
    "test_df.to_csv(\"test_df.csv\", index=False)"
   ]
  },
  {
   "cell_type": "code",
   "execution_count": null,
   "metadata": {},
   "outputs": [],
   "source": [
    "train_df.Prediction.value_counts()"
   ]
  },
  {
   "cell_type": "code",
   "execution_count": null,
   "metadata": {},
   "outputs": [],
   "source": [
    "train_df.to_csv(\"train_df_wo.csv\", index=False)"
   ]
  },
  {
   "cell_type": "code",
   "execution_count": null,
   "metadata": {},
   "outputs": [],
   "source": [
    "test_df.columns"
   ]
  },
  {
   "cell_type": "code",
   "execution_count": null,
   "metadata": {},
   "outputs": [],
   "source": [
    "len(train_df)"
   ]
  },
  {
   "cell_type": "markdown",
   "metadata": {},
   "source": [
    "# BALANCE"
   ]
  },
  {
   "cell_type": "code",
   "execution_count": 1,
   "metadata": {},
   "outputs": [
    {
     "name": "stderr",
     "output_type": "stream",
     "text": [
      "WARNING: Not updating worker name since `setproctitle` is not installed. Install this with `pip install setproctitle` (or ray[debug]) to enable monitoring of worker processes.\n",
      "Process STDOUT and STDERR is being redirected to /tmp/ray/session_2018-12-13_08-11-33_22395/logs.\n",
      "Waiting for redis server at 127.0.0.1:25226 to respond...\n",
      "Waiting for redis server at 127.0.0.1:14344 to respond...\n",
      "Starting the Plasma object store with 6.579558809 GB memory using /dev/shm.\n"
     ]
    }
   ],
   "source": [
    "import modin.pandas as pd\n",
    "train_df = pd.read_csv(\"final_train.csv\")"
   ]
  },
  {
   "cell_type": "code",
   "execution_count": 2,
   "metadata": {},
   "outputs": [],
   "source": [
    "from imblearn.over_sampling import SMOTE"
   ]
  },
  {
   "cell_type": "code",
   "execution_count": 3,
   "metadata": {},
   "outputs": [],
   "source": [
    "sm = SMOTE(random_state=2)"
   ]
  },
  {
   "cell_type": "code",
   "execution_count": 4,
   "metadata": {},
   "outputs": [],
   "source": [
    "cols = train_df.drop(\"Prediction\", axis=1).columns"
   ]
  },
  {
   "cell_type": "code",
   "execution_count": 5,
   "metadata": {},
   "outputs": [],
   "source": [
    "cols = cols.append(pd.Index([\"Prediction\"]))"
   ]
  },
  {
   "cell_type": "code",
   "execution_count": 6,
   "metadata": {},
   "outputs": [
    {
     "data": {
      "text/plain": [
       "Index(['Customer_ID', 'Store_Code', 'Nationality', 'Income_Range', 'Job_Type',\n",
       "       'Marital_Status', 'Gender', 'State', 'Language', 'Loyalty_Status',\n",
       "       'Points', 'First_txn_days', 'Last_accr_txn_days', 'Age', 'Week',\n",
       "       'Invoices', 'Item_Count', 'Revenue', 'Discount', 'Last_Pur_Year',\n",
       "       'Return_Reason', 'Region_Code', 'Store_Format', 'Sales_Per_Day',\n",
       "       'Geo_Field', 'Store_Size_Sq_Ft', 'isMall', 'Prediction'],\n",
       "      dtype='object')"
      ]
     },
     "execution_count": 6,
     "metadata": {},
     "output_type": "execute_result"
    }
   ],
   "source": [
    "cols"
   ]
  },
  {
   "cell_type": "code",
   "execution_count": 7,
   "metadata": {},
   "outputs": [],
   "source": [
    "X_train_res, y_train_res = sm.fit_sample(train_df.drop(\"Prediction\", axis=1), train_df.Prediction.ravel())"
   ]
  },
  {
   "cell_type": "code",
   "execution_count": 8,
   "metadata": {},
   "outputs": [],
   "source": [
    "train_sm_df = pd.DataFrame(X_train_res)"
   ]
  },
  {
   "cell_type": "code",
   "execution_count": 9,
   "metadata": {},
   "outputs": [],
   "source": [
    "test_sm_df = pd.DataFrame(y_train_res)"
   ]
  },
  {
   "cell_type": "code",
   "execution_count": 10,
   "metadata": {},
   "outputs": [
    {
     "data": {
      "text/plain": [
       "(5831426, 27)"
      ]
     },
     "execution_count": 10,
     "metadata": {},
     "output_type": "execute_result"
    }
   ],
   "source": [
    "X_train_res.shape"
   ]
  },
  {
   "cell_type": "code",
   "execution_count": 11,
   "metadata": {},
   "outputs": [],
   "source": [
    "train_sm_df = pd.concat([train_sm_df, test_sm_df], axis=1)"
   ]
  },
  {
   "cell_type": "code",
   "execution_count": 12,
   "metadata": {},
   "outputs": [],
   "source": [
    "train_sm_df.columns = ['Customer_ID', 'Store_Code', 'Nationality', 'Income_Range', 'Job_Type',\n",
    "       'Marital_Status', 'Gender', 'State', 'Language', 'Loyalty_Status',\n",
    "       'Points', 'First_txn_days', 'Last_accr_txn_days', 'Age', 'Week',\n",
    "       'Invoices', 'Item_Count', 'Revenue', 'Discount', 'Last_Pur_Year',\n",
    "       'Return_Reason', 'Region_Code', 'Store_Format', 'Sales_Per_Day',\n",
    "       'Geo_Field', 'Store_Size_Sq_Ft', 'isMall', 'Prediction']"
   ]
  },
  {
   "cell_type": "code",
   "execution_count": 13,
   "metadata": {},
   "outputs": [
    {
     "name": "stderr",
     "output_type": "stream",
     "text": [
      "/home/vivekviswambharan/anaconda3/envs/3point6/lib/python3.6/site-packages/modin/pandas/dataframe.py:3964: UserWarning: Defaulting to Pandas implementation\n",
      "  warnings.warn(\"Defaulting to Pandas implementation\", UserWarning)\n"
     ]
    }
   ],
   "source": [
    "train_sm_df.to_csv(\"balanced_set_new.csv\", index=False)"
   ]
  },
  {
   "cell_type": "markdown",
   "metadata": {},
   "source": [
    "# Prepare Validation Set"
   ]
  },
  {
   "cell_type": "code",
   "execution_count": null,
   "metadata": {},
   "outputs": [],
   "source": [
    "train_df = pd.read_csv(\"train_df_wo.csv\")"
   ]
  },
  {
   "cell_type": "code",
   "execution_count": null,
   "metadata": {},
   "outputs": [],
   "source": [
    "train_df.Customer_ID.head(2)"
   ]
  },
  {
   "cell_type": "code",
   "execution_count": null,
   "metadata": {},
   "outputs": [],
   "source": [
    "test_df = train_df[train_df.Store_Code.isin(['60075', '60250', '60077', '60079' ])]"
   ]
  },
  {
   "cell_type": "code",
   "execution_count": null,
   "metadata": {},
   "outputs": [],
   "source": [
    "train_df.drop(train_df[train_df.Store_Code.isin(['60075', '60250', '60077', '60079' ])].index, axis=0, inplace=True)"
   ]
  },
  {
   "cell_type": "code",
   "execution_count": null,
   "metadata": {},
   "outputs": [],
   "source": [
    "test_df.drop(['Customer_ID','Store_Code'],axis=1, inplace=True)\n",
    "train_df.drop(['Customer_ID','Store_Code'],axis=1, inplace=True)"
   ]
  },
  {
   "cell_type": "code",
   "execution_count": null,
   "metadata": {},
   "outputs": [],
   "source": [
    "y_train = train_df.Prediction\n",
    "X_train = train_df.drop(\"Prediction\", axis=1)\n",
    "y_test = test_df.Prediction\n",
    "X_test = test_df.drop(\"Prediction\", axis=1)"
   ]
  },
  {
   "cell_type": "code",
   "execution_count": null,
   "metadata": {},
   "outputs": [],
   "source": [
    "len(X_train)"
   ]
  },
  {
   "cell_type": "markdown",
   "metadata": {},
   "source": [
    "# XGBOOST"
   ]
  },
  {
   "cell_type": "code",
   "execution_count": null,
   "metadata": {},
   "outputs": [],
   "source": []
  },
  {
   "cell_type": "code",
   "execution_count": null,
   "metadata": {},
   "outputs": [],
   "source": []
  },
  {
   "cell_type": "code",
   "execution_count": null,
   "metadata": {},
   "outputs": [],
   "source": []
  },
  {
   "cell_type": "markdown",
   "metadata": {},
   "source": [
    "# RANDOM FOREST"
   ]
  },
  {
   "cell_type": "code",
   "execution_count": null,
   "metadata": {},
   "outputs": [],
   "source": [
    " # removing unimportant features\n",
    "X_train.drop(['Gender', 'Last_Pur_Year', 'Loyalty_Status', 'Marital_Status', 'Income_Range', 'Job_Type', 'Store_Format', 'Last_Pur_Week'],\\\n",
    "                             axis=1,inplace=True)\n",
    "X_test.drop(['Gender', 'Last_Pur_Year', 'Loyalty_Status', 'Marital_Status', 'Income_Range', 'Job_Type', 'Store_Format', 'Last_Pur_Week'],\\\n",
    "                            axis=1,inplace=True)"
   ]
  },
  {
   "cell_type": "code",
   "execution_count": null,
   "metadata": {},
   "outputs": [],
   "source": [
    "from sklearn.model_selection import train_test_split\n",
    "from sklearn.ensemble import RandomForestClassifier\n",
    "feature_names = X_train.columns \n",
    "# len(feature_names)"
   ]
  },
  {
   "cell_type": "code",
   "execution_count": null,
   "metadata": {},
   "outputs": [],
   "source": [
    "from sklearn.model_selection import GridSearchCV\n",
    "# Create the parameter grid based on the results of random search \n",
    "param_grid = {\n",
    "    'bootstrap': [True],\n",
    "    'max_depth': [20, 50, 100],\n",
    "    'max_features': [2, 7],\n",
    "    'min_samples_leaf': [3, 5, 10],\n",
    "    'min_samples_split': [8, 10, 12],\n",
    "    'n_estimators': [100]\n",
    "}\n",
    "# Create a based model\n",
    "rf = RandomForestClassifier()\n",
    "# Instantiate the grid search model\n",
    "grid_search = GridSearchCV(estimator = rf, param_grid = param_grid, \n",
    "                          cv = 3, n_jobs = -1, verbose = 5)"
   ]
  },
  {
   "cell_type": "code",
   "execution_count": null,
   "metadata": {},
   "outputs": [],
   "source": [
    "# Fit the grid search to the data\n",
    "grid_search.fit(X_train, y_train)\n",
    "grid_search.best_params_"
   ]
  },
  {
   "cell_type": "code",
   "execution_count": null,
   "metadata": {},
   "outputs": [],
   "source": [
    "feature_imp = pd.Series(clf.feature_importances_,index=feature_names).sort_values(ascending=False)\n",
    "feature_imp"
   ]
  },
  {
   "cell_type": "code",
   "execution_count": null,
   "metadata": {},
   "outputs": [],
   "source": [
    "from sklearn.metrics import accuracy_score, roc_auc_score\n",
    "from sklearn.metrics import confusion_matrix\n",
    "#Import scikit-learn metrics module for accuracy calculation\n",
    "from sklearn import metrics\n",
    "from sklearn.metrics import f1_score\n",
    "# Model Accuracy, how often is the classifier correct?\n",
    "# prediction on test set\n",
    "# print(\"AUC - ROC of oob : \", roc_auc_score(y_train, clf.oob_score_))\n",
    "\n",
    "y_pred=clf.predict(X_test)\n",
    "print(\"Accuracy:\", metrics.accuracy_score(y_pred, y_test))\n",
    "conf_mat = confusion_matrix(y_test, y_pred)\n",
    "print(\"conf_mat:\", conf_mat)\n",
    "auc_roc = roc_auc_score(y_test, y_pred)\n",
    "print(\"auc_roc\", auc_roc)\n",
    "f1 = f1_score(y_test, y_pred)\n",
    "print(\"f1:\", f1)"
   ]
  },
  {
   "cell_type": "code",
   "execution_count": null,
   "metadata": {},
   "outputs": [],
   "source": []
  }
 ],
 "metadata": {
  "kernelspec": {
   "display_name": "3point6",
   "language": "python",
   "name": "3point6"
  },
  "language_info": {
   "codemirror_mode": {
    "name": "ipython",
    "version": 3
   },
   "file_extension": ".py",
   "mimetype": "text/x-python",
   "name": "python",
   "nbconvert_exporter": "python",
   "pygments_lexer": "ipython3",
   "version": "3.6.6"
  }
 },
 "nbformat": 4,
 "nbformat_minor": 2
}
