{
 "cells": [
  {
   "cell_type": "code",
   "execution_count": 1,
   "metadata": {},
   "outputs": [],
   "source": [
    "import numpy as np\n",
    "import pandas as pd"
   ]
  },
  {
   "cell_type": "code",
   "execution_count": 3,
   "metadata": {},
   "outputs": [],
   "source": [
    "train_df = pd.read_csv(\"train_df_wo.csv\")"
   ]
  },
  {
   "cell_type": "code",
   "execution_count": 5,
   "metadata": {},
   "outputs": [
    {
     "data": {
      "text/html": [
       "<div>\n",
       "<style scoped>\n",
       "    .dataframe tbody tr th:only-of-type {\n",
       "        vertical-align: middle;\n",
       "    }\n",
       "\n",
       "    .dataframe tbody tr th {\n",
       "        vertical-align: top;\n",
       "    }\n",
       "\n",
       "    .dataframe thead th {\n",
       "        text-align: right;\n",
       "    }\n",
       "</style>\n",
       "<table border=\"1\" class=\"dataframe\">\n",
       "  <thead>\n",
       "    <tr style=\"text-align: right;\">\n",
       "      <th></th>\n",
       "      <th>Customer_ID</th>\n",
       "      <th>Discount</th>\n",
       "      <th>First_txn_days</th>\n",
       "      <th>Gender</th>\n",
       "      <th>Geo_Field</th>\n",
       "      <th>Income_Range</th>\n",
       "      <th>Invoices</th>\n",
       "      <th>Item_Count</th>\n",
       "      <th>Job_Type</th>\n",
       "      <th>Language</th>\n",
       "      <th>...</th>\n",
       "      <th>Region_Code</th>\n",
       "      <th>Revenue</th>\n",
       "      <th>Sales_Per_Day</th>\n",
       "      <th>State</th>\n",
       "      <th>Store_Code</th>\n",
       "      <th>Store_Format</th>\n",
       "      <th>Store_Size_Sq_Ft</th>\n",
       "      <th>Week</th>\n",
       "      <th>Year</th>\n",
       "      <th>isMall</th>\n",
       "    </tr>\n",
       "  </thead>\n",
       "  <tbody>\n",
       "    <tr>\n",
       "      <th>0</th>\n",
       "      <td>1800000006365760</td>\n",
       "      <td>56.0</td>\n",
       "      <td>2956.0</td>\n",
       "      <td>1</td>\n",
       "      <td>8</td>\n",
       "      <td>4</td>\n",
       "      <td>5</td>\n",
       "      <td>38</td>\n",
       "      <td>13</td>\n",
       "      <td>1</td>\n",
       "      <td>...</td>\n",
       "      <td>1</td>\n",
       "      <td>1117.0</td>\n",
       "      <td>1699.560982</td>\n",
       "      <td>0</td>\n",
       "      <td>60067</td>\n",
       "      <td>0</td>\n",
       "      <td>8673.534535</td>\n",
       "      <td>110</td>\n",
       "      <td>8066</td>\n",
       "      <td>1.0</td>\n",
       "    </tr>\n",
       "    <tr>\n",
       "      <th>1</th>\n",
       "      <td>1800000006365760</td>\n",
       "      <td>56.0</td>\n",
       "      <td>2956.0</td>\n",
       "      <td>1</td>\n",
       "      <td>5</td>\n",
       "      <td>4</td>\n",
       "      <td>5</td>\n",
       "      <td>38</td>\n",
       "      <td>13</td>\n",
       "      <td>1</td>\n",
       "      <td>...</td>\n",
       "      <td>1</td>\n",
       "      <td>1117.0</td>\n",
       "      <td>2101.072259</td>\n",
       "      <td>0</td>\n",
       "      <td>60054</td>\n",
       "      <td>0</td>\n",
       "      <td>12425.516106</td>\n",
       "      <td>110</td>\n",
       "      <td>8066</td>\n",
       "      <td>1.0</td>\n",
       "    </tr>\n",
       "    <tr>\n",
       "      <th>2</th>\n",
       "      <td>1800000006365760</td>\n",
       "      <td>56.0</td>\n",
       "      <td>2956.0</td>\n",
       "      <td>1</td>\n",
       "      <td>20</td>\n",
       "      <td>4</td>\n",
       "      <td>5</td>\n",
       "      <td>38</td>\n",
       "      <td>13</td>\n",
       "      <td>1</td>\n",
       "      <td>...</td>\n",
       "      <td>0</td>\n",
       "      <td>1117.0</td>\n",
       "      <td>1331.402147</td>\n",
       "      <td>0</td>\n",
       "      <td>60066</td>\n",
       "      <td>0</td>\n",
       "      <td>15897.142270</td>\n",
       "      <td>110</td>\n",
       "      <td>8066</td>\n",
       "      <td>1.0</td>\n",
       "    </tr>\n",
       "    <tr>\n",
       "      <th>3</th>\n",
       "      <td>1800000006365760</td>\n",
       "      <td>56.0</td>\n",
       "      <td>2956.0</td>\n",
       "      <td>1</td>\n",
       "      <td>6</td>\n",
       "      <td>4</td>\n",
       "      <td>5</td>\n",
       "      <td>38</td>\n",
       "      <td>13</td>\n",
       "      <td>1</td>\n",
       "      <td>...</td>\n",
       "      <td>1</td>\n",
       "      <td>1117.0</td>\n",
       "      <td>1813.094697</td>\n",
       "      <td>0</td>\n",
       "      <td>60069</td>\n",
       "      <td>0</td>\n",
       "      <td>6698.117964</td>\n",
       "      <td>110</td>\n",
       "      <td>8066</td>\n",
       "      <td>1.0</td>\n",
       "    </tr>\n",
       "    <tr>\n",
       "      <th>4</th>\n",
       "      <td>1800000006365760</td>\n",
       "      <td>56.0</td>\n",
       "      <td>2956.0</td>\n",
       "      <td>1</td>\n",
       "      <td>3</td>\n",
       "      <td>4</td>\n",
       "      <td>5</td>\n",
       "      <td>38</td>\n",
       "      <td>13</td>\n",
       "      <td>1</td>\n",
       "      <td>...</td>\n",
       "      <td>1</td>\n",
       "      <td>1117.0</td>\n",
       "      <td>1193.119529</td>\n",
       "      <td>0</td>\n",
       "      <td>60079</td>\n",
       "      <td>1</td>\n",
       "      <td>3699.470014</td>\n",
       "      <td>110</td>\n",
       "      <td>8066</td>\n",
       "      <td>1.0</td>\n",
       "    </tr>\n",
       "  </tbody>\n",
       "</table>\n",
       "<p>5 rows × 29 columns</p>\n",
       "</div>"
      ],
      "text/plain": [
       "        Customer_ID  Discount  First_txn_days  Gender  Geo_Field  \\\n",
       "0  1800000006365760      56.0          2956.0       1          8   \n",
       "1  1800000006365760      56.0          2956.0       1          5   \n",
       "2  1800000006365760      56.0          2956.0       1         20   \n",
       "3  1800000006365760      56.0          2956.0       1          6   \n",
       "4  1800000006365760      56.0          2956.0       1          3   \n",
       "\n",
       "   Income_Range  Invoices  Item_Count  Job_Type  Language   ...    \\\n",
       "0             4         5          38        13         1   ...     \n",
       "1             4         5          38        13         1   ...     \n",
       "2             4         5          38        13         1   ...     \n",
       "3             4         5          38        13         1   ...     \n",
       "4             4         5          38        13         1   ...     \n",
       "\n",
       "   Region_Code  Revenue  Sales_Per_Day  State  Store_Code  Store_Format  \\\n",
       "0            1   1117.0    1699.560982      0       60067             0   \n",
       "1            1   1117.0    2101.072259      0       60054             0   \n",
       "2            0   1117.0    1331.402147      0       60066             0   \n",
       "3            1   1117.0    1813.094697      0       60069             0   \n",
       "4            1   1117.0    1193.119529      0       60079             1   \n",
       "\n",
       "   Store_Size_Sq_Ft  Week  Year  isMall  \n",
       "0       8673.534535   110  8066     1.0  \n",
       "1      12425.516106   110  8066     1.0  \n",
       "2      15897.142270   110  8066     1.0  \n",
       "3       6698.117964   110  8066     1.0  \n",
       "4       3699.470014   110  8066     1.0  \n",
       "\n",
       "[5 rows x 29 columns]"
      ]
     },
     "execution_count": 5,
     "metadata": {},
     "output_type": "execute_result"
    }
   ],
   "source": [
    "train_df.head()"
   ]
  },
  {
   "cell_type": "code",
   "execution_count": null,
   "metadata": {},
   "outputs": [],
   "source": [
    "test_df = pd.read_csv(\"test_df.csv\")"
   ]
  },
  {
   "cell_type": "code",
   "execution_count": null,
   "metadata": {},
   "outputs": [],
   "source": [
    "test_df.head()"
   ]
  },
  {
   "cell_type": "code",
   "execution_count": 6,
   "metadata": {},
   "outputs": [],
   "source": [
    "# test_df = train_df[train_df.Store_Code.isin(['60075', '60250', '60077', '60079' ])]"
   ]
  },
  {
   "cell_type": "code",
   "execution_count": 7,
   "metadata": {},
   "outputs": [],
   "source": [
    "# train_df.drop(train_df[train_df.Store_Code.isin(['60075', '60250', '60077', '60079' ])].index, axis=0, inplace=True)"
   ]
  },
  {
   "cell_type": "code",
   "execution_count": 31,
   "metadata": {},
   "outputs": [
    {
     "name": "stderr",
     "output_type": "stream",
     "text": [
      "/home/vivekviswambharan/anaconda3/envs/3point6/lib/python3.6/site-packages/pandas/core/frame.py:3697: SettingWithCopyWarning: \n",
      "A value is trying to be set on a copy of a slice from a DataFrame\n",
      "\n",
      "See the caveats in the documentation: http://pandas.pydata.org/pandas-docs/stable/indexing.html#indexing-view-versus-copy\n",
      "  errors=errors)\n"
     ]
    }
   ],
   "source": [
    "# dropping customer id and Store Code\n",
    "train_df.drop(['Customer_ID', 'Store_Code'], axis=1, inplace=True)\n",
    "test_df.drop(['Customer_ID', 'Store_Code'], axis=1, inplace=True)"
   ]
  },
  {
   "cell_type": "code",
   "execution_count": 32,
   "metadata": {},
   "outputs": [],
   "source": [
    "X_train =train_df.drop('Prediction', axis=1) \n",
    "y_train = train_df['Prediction']\n",
    "X_test = test_df.drop('Prediction', axis=1) \n",
    "y_test = test_df['Prediction']"
   ]
  },
  {
   "cell_type": "code",
   "execution_count": 37,
   "metadata": {},
   "outputs": [
    {
     "data": {
      "text/plain": [
       "First_txn_days        3100000\n",
       "Gender                3100000\n",
       "Income_Range          3100000\n",
       "Job_Type              3100000\n",
       "Language              3100000\n",
       "Last_accr_txn_days    3100000\n",
       "Last_rdm_txn_days     3100000\n",
       "Loyalty_Status        3100000\n",
       "Marital_Status        3100000\n",
       "Nationality           3100000\n",
       "Points                3100000\n",
       "Region                3100000\n",
       "Region_Code           3100000\n",
       "Sales_Per_Day         3100000\n",
       "State                 3100000\n",
       "Store_Format          3100000\n",
       "Store_Size_Sq_Ft      3100000\n",
       "dtype: int64"
      ]
     },
     "execution_count": 37,
     "metadata": {},
     "output_type": "execute_result"
    }
   ],
   "source": [
    "X_train.count()"
   ]
  },
  {
   "cell_type": "markdown",
   "metadata": {},
   "source": [
    "# RANDOM FOREST"
   ]
  },
  {
   "cell_type": "code",
   "execution_count": 9,
   "metadata": {},
   "outputs": [],
   "source": [
    "from sklearn.model_selection import train_test_split\n",
    "from sklearn.ensemble import RandomForestClassifier\n",
    "feature_names = train_df.columns[:-1] \n",
    "# X_train, X_test, y_train, y_test = train_test_split(X, y, test_size=0.20, random_state=42)"
   ]
  },
  {
   "cell_type": "code",
   "execution_count": null,
   "metadata": {},
   "outputs": [],
   "source": [
    "clf = RandomForestClassifier( random_state=13, class_weight=\"balanced\", max_depth=10, n_estimators=150)"
   ]
  },
  {
   "cell_type": "code",
   "execution_count": null,
   "metadata": {},
   "outputs": [],
   "source": [
    "clf.fit(X_train, y_train)"
   ]
  },
  {
   "cell_type": "code",
   "execution_count": null,
   "metadata": {},
   "outputs": [],
   "source": [
    "feature_imp = pd.Series(clf.feature_importances_,index=feature_names).sort_values(ascending=False)\n",
    "feature_imp"
   ]
  },
  {
   "cell_type": "code",
   "execution_count": null,
   "metadata": {},
   "outputs": [],
   "source": [
    "from sklearn.metrics import accuracy_score, roc_auc_score\n",
    "from sklearn.metrics import confusion_matrix\n",
    "#Import scikit-learn metrics module for accuracy calculation\n",
    "from sklearn import metrics\n",
    "# Model Accuracy, how often is the classifier correct?\n",
    "# prediction on test set\n",
    "y_pred=clf.predict(X_test)\n",
    "print(\"Accuracy:\",metrics.accuracy_score(y_pred, y_test))\n",
    "conf_mat = confusion_matrix(y_test, y_pred)\n",
    "print(conf_mat)\n",
    "auc_roc = roc_auc_score(y_test, y_pred)\n",
    "print(auc_roc)"
   ]
  }
 ],
 "metadata": {
  "kernelspec": {
   "display_name": "3point6",
   "language": "python",
   "name": "3point6"
  },
  "language_info": {
   "codemirror_mode": {
    "name": "ipython",
    "version": 3
   },
   "file_extension": ".py",
   "mimetype": "text/x-python",
   "name": "python",
   "nbconvert_exporter": "python",
   "pygments_lexer": "ipython3",
   "version": "3.6.6"
  }
 },
 "nbformat": 4,
 "nbformat_minor": 2
}
