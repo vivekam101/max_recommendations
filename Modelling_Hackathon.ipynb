{
 "cells": [
  {
   "cell_type": "code",
   "execution_count": 190,
   "metadata": {
    "colab": {},
    "colab_type": "code",
    "id": "NTMIy5GcKCOt"
   },
   "outputs": [],
   "source": [
    "import numpy as np\n",
    "import pandas as pd"
   ]
  },
  {
   "cell_type": "code",
   "execution_count": 191,
   "metadata": {
    "colab": {
     "base_uri": "https://localhost:8080/",
     "height": 34
    },
    "colab_type": "code",
    "executionInfo": {
     "elapsed": 15582,
     "status": "ok",
     "timestamp": 1544511001482,
     "user": {
      "displayName": "VIVEK T.V.",
      "photoUrl": "",
      "userId": "00151430067648768806"
     },
     "user_tz": -330
    },
    "id": "a0sKa-daKCOz",
    "outputId": "4200be77-2560-4b1f-a657-2d4542e5b7af"
   },
   "outputs": [],
   "source": [
    "# train_df = pd.read_csv(\"train_df_wo.csv\")\n",
    "# train_df = pd.read_csv(\"balanced_set_new.csv\")"
   ]
  },
  {
   "cell_type": "code",
   "execution_count": 192,
   "metadata": {},
   "outputs": [],
   "source": [
    "train_df = pd.read_csv(\"final_train.csv\")"
   ]
  },
  {
   "cell_type": "code",
   "execution_count": 306,
   "metadata": {},
   "outputs": [],
   "source": [
    "test_df = pd.read_csv('final_test.csv')"
   ]
  },
  {
   "cell_type": "code",
   "execution_count": 194,
   "metadata": {},
   "outputs": [],
   "source": [
    "# test_df = pd.read_csv('test_df.csv')"
   ]
  },
  {
   "cell_type": "code",
   "execution_count": 195,
   "metadata": {},
   "outputs": [
    {
     "data": {
      "text/plain": [
       "28"
      ]
     },
     "execution_count": 195,
     "metadata": {},
     "output_type": "execute_result"
    }
   ],
   "source": [
    "len(train_df.columns)"
   ]
  },
  {
   "cell_type": "code",
   "execution_count": 196,
   "metadata": {
    "colab": {
     "base_uri": "https://localhost:8080/",
     "height": 253
    },
    "colab_type": "code",
    "executionInfo": {
     "elapsed": 15571,
     "status": "ok",
     "timestamp": 1544511001485,
     "user": {
      "displayName": "VIVEK T.V.",
      "photoUrl": "",
      "userId": "00151430067648768806"
     },
     "user_tz": -330
    },
    "id": "XrFuZXR7KCO3",
    "outputId": "9acb1570-58eb-4f74-da39-bd3a02103f2a"
   },
   "outputs": [
    {
     "data": {
      "text/plain": [
       "3100000"
      ]
     },
     "execution_count": 196,
     "metadata": {},
     "output_type": "execute_result"
    }
   ],
   "source": [
    "len(train_df)"
   ]
  },
  {
   "cell_type": "code",
   "execution_count": 197,
   "metadata": {},
   "outputs": [
    {
     "data": {
      "text/plain": [
       "27"
      ]
     },
     "execution_count": 197,
     "metadata": {},
     "output_type": "execute_result"
    }
   ],
   "source": [
    "len(test_df.columns)"
   ]
  },
  {
   "cell_type": "code",
   "execution_count": 198,
   "metadata": {},
   "outputs": [],
   "source": [
    "# train_df.drop(['Week', 'Job_Type', 'Income_Range', 'Marital_Status', 'Loyalty_Status', 'Gender', 'Age', 'Points', 'Last_Pur_Year', 'First_txn_days',\\\n",
    "#               'Return_Reason', 'Store_Format', 'Revenue'],\\\n",
    "#                     axis=1, inplace=True)\n",
    "# train_balanced_df.drop(['Week', 'Job_Type', 'Income_Range', 'Marital_Status', 'Loyalty_Status'],\\\n",
    "#                     axis=1, inplace=True)"
   ]
  },
  {
   "cell_type": "code",
   "execution_count": 199,
   "metadata": {
    "colab": {
     "base_uri": "https://localhost:8080/",
     "height": 253
    },
    "colab_type": "code",
    "executionInfo": {
     "elapsed": 15565,
     "status": "ok",
     "timestamp": 1544511001487,
     "user": {
      "displayName": "VIVEK T.V.",
      "photoUrl": "",
      "userId": "00151430067648768806"
     },
     "user_tz": -330
    },
    "id": "SHv1SvMgKCO_",
    "outputId": "d34470cb-291b-473b-9101-d4f69df542dc"
   },
   "outputs": [],
   "source": [
    "# test_df.drop(['Week', 'Job_Type', 'Income_Range', 'Marital_Status', 'Loyalty_Status', 'Gender', 'Age', 'Points', 'Last_Pur_Year', 'First_txn_days',\\\n",
    "#               'Return_Reason', 'Store_Format', 'Revenue'],\\\n",
    "#                      axis=1, inplace=True)"
   ]
  },
  {
   "cell_type": "code",
   "execution_count": 280,
   "metadata": {},
   "outputs": [],
   "source": [
    "train_df = train_df[['Sales_Per_Day', 'Store_Size_Sq_Ft', 'Geo_Field', 'Invoices','Region_Code','State', 'Prediction', 'Nationality',\n",
    "                                                        'Item_Count']]\n",
    "\n",
    "# [['Nationality', 'State', 'Region_Code', 'Sales_Per_Day',\n",
    "#        'Store_Size_Sq_Ft', 'Customer_ID', 'Store_Code', 'Prediction', 'Item_Count', 'Invoices']]"
   ]
  },
  {
   "cell_type": "code",
   "execution_count": 307,
   "metadata": {},
   "outputs": [],
   "source": [
    "test_df = test_df[['Sales_Per_Day', 'Store_Size_Sq_Ft', 'Geo_Field', 'Invoices','Region_Code','State',  'Nationality',\n",
    "                                                      'Item_Count', 'Customer_ID', 'Store_Code']]"
   ]
  },
  {
   "cell_type": "code",
   "execution_count": 202,
   "metadata": {
    "colab": {},
    "colab_type": "code",
    "id": "DDR5BkTBKCPB"
   },
   "outputs": [],
   "source": [
    "# test_df = train_df[train_df.Store_Code.isin(['60075', '60250', '60077', '60079' ])]"
   ]
  },
  {
   "cell_type": "code",
   "execution_count": 203,
   "metadata": {
    "colab": {},
    "colab_type": "code",
    "id": "nVqBx6zpKCPE"
   },
   "outputs": [],
   "source": [
    "# train_df.drop(train_df[train_df.Store_Code.isin(['60075', '60250', '60077', '60079' ])].index, axis=0, inplace=True)"
   ]
  },
  {
   "cell_type": "code",
   "execution_count": 204,
   "metadata": {
    "colab": {},
    "colab_type": "code",
    "id": "0Pu4UNY_KCPI"
   },
   "outputs": [],
   "source": [
    "# dropping customer id and Store Code\n",
    "# train_df.drop(['Customer_ID', 'Store_Code'], axis=1, inplace=True)\n",
    "# train_balanced_df.drop(['Customer_ID', 'Store_Code'], axis=1, inplace=True)"
   ]
  },
  {
   "cell_type": "code",
   "execution_count": 205,
   "metadata": {},
   "outputs": [
    {
     "data": {
      "text/plain": [
       "Index(['Sales_Per_Day', 'Store_Size_Sq_Ft', 'Geo_Field', 'Invoices',\n",
       "       'Region_Code', 'State', 'Nationality', 'Last_accr_txn_days', 'Discount',\n",
       "       'Item_Count', 'Customer_ID', 'Store_Code'],\n",
       "      dtype='object')"
      ]
     },
     "execution_count": 205,
     "metadata": {},
     "output_type": "execute_result"
    }
   ],
   "source": [
    "test_df.columns"
   ]
  },
  {
   "cell_type": "code",
   "execution_count": 282,
   "metadata": {
    "colab": {},
    "colab_type": "code",
    "id": "U9EdeH7NKCPM"
   },
   "outputs": [],
   "source": [
    "X1_train =train_df.drop('Prediction', axis=1) \n",
    "y1_train = train_df['Prediction']\n",
    "# X_train =train_balanced_df.drop('Prediction', axis=1) \n",
    "# y_train = train_balanced_df['Prediction']\n",
    "\n",
    "# X_test = test_df.drop('Prediction', axis=1) \n",
    "# y_test = test_df['Prediction']"
   ]
  },
  {
   "cell_type": "code",
   "execution_count": 207,
   "metadata": {
    "colab": {
     "base_uri": "https://localhost:8080/",
     "height": 442
    },
    "colab_type": "code",
    "executionInfo": {
     "elapsed": 17767,
     "status": "ok",
     "timestamp": 1544511003731,
     "user": {
      "displayName": "VIVEK T.V.",
      "photoUrl": "",
      "userId": "00151430067648768806"
     },
     "user_tz": -330
    },
    "id": "taYIXJdsKCPP",
    "outputId": "9c6e0d12-b440-4fc0-9b1a-3b8e4b8f9f77"
   },
   "outputs": [],
   "source": [
    "# sum(y_test == 1)"
   ]
  },
  {
   "cell_type": "markdown",
   "metadata": {
    "colab_type": "text",
    "id": "civTphlrKCPT"
   },
   "source": [
    "# RANDOM FOREST"
   ]
  },
  {
   "cell_type": "code",
   "execution_count": 288,
   "metadata": {
    "colab": {},
    "colab_type": "code",
    "id": "nbcU_xBcKCPV"
   },
   "outputs": [],
   "source": [
    "from sklearn.model_selection import train_test_split\n",
    "from sklearn.ensemble import RandomForestClassifier\n",
    "from sklearn.ensemble import GradientBoostingClassifier\n",
    "from xgboost import XGBClassifier\n",
    "from sklearn.linear_model import LogisticRegression\n",
    "from sklearn import svm\n",
    "feature_names = X1_train.columns \n",
    "X_train, X_test, y_train, y_test = train_test_split(X1_train, y1_train, stratify=y1_train,test_size=0.2, random_state=42)\n",
    "X_train = X1_train\n",
    "y_train = y1_train"
   ]
  },
  {
   "cell_type": "code",
   "execution_count": 209,
   "metadata": {
    "colab": {},
    "colab_type": "code",
    "id": "7AqwRD5fLIra"
   },
   "outputs": [],
   "source": [
    "# from sklearn.model_selection import GridSearchCV\n",
    "# # Create the parameter grid based on the results of random search \n",
    "# param_grid = {\n",
    "#     'bootstrap': [True],\n",
    "#     'max_depth': [80, 90],\n",
    "#     'max_features': [2, 3],\n",
    "#     'min_samples_leaf': [3, 4, 5],\n",
    "#     'min_samples_split': [8, 10, 12],\n",
    "#     'n_estimators': [100, 50]\n",
    "# }\n",
    "\n",
    "# # Create a based model\n",
    "# rf = RandomForestClassifier(class_weight='balanced')\n",
    "\n",
    "# # Instantiate the grid search model\n",
    "# grid_search = GridSearchCV(scoring='f1', estimator = rf, param_grid = param_grid, \n",
    "#                           cv =3 , n_jobs = -1,  verbose = 5)"
   ]
  },
  {
   "cell_type": "code",
   "execution_count": 210,
   "metadata": {},
   "outputs": [],
   "source": [
    "# lg = LogisticRegression(verbose=5)"
   ]
  },
  {
   "cell_type": "code",
   "execution_count": 211,
   "metadata": {},
   "outputs": [],
   "source": [
    "# svc = svm.SVC(kernel='rbf', C=1,gamma='auto').fit(X_train, y_train)"
   ]
  },
  {
   "cell_type": "code",
   "execution_count": 312,
   "metadata": {},
   "outputs": [],
   "source": [
    "rf = RandomForestClassifier(n_jobs = -1,  verbose = 5, n_estimators=50, random_state=10, class_weight='balanced' ,min_samples_leaf=20)"
   ]
  },
  {
   "cell_type": "code",
   "execution_count": 313,
   "metadata": {},
   "outputs": [],
   "source": [
    "# gb = GradientBoostingClassifier(verbose = 5,learning_rate=0.1, n_estimators=50, random_state=10)"
   ]
  },
  {
   "cell_type": "code",
   "execution_count": 314,
   "metadata": {},
   "outputs": [],
   "source": [
    "# xgb = XGBClassifier( verbose = 5, n_estimators=50, random_state=10)"
   ]
  },
  {
   "cell_type": "code",
   "execution_count": 315,
   "metadata": {},
   "outputs": [
    {
     "name": "stderr",
     "output_type": "stream",
     "text": [
      "[Parallel(n_jobs=-1)]: Using backend ThreadingBackend with 4 concurrent workers.\n"
     ]
    },
    {
     "name": "stdout",
     "output_type": "stream",
     "text": [
      "building tree 1 of 50\n",
      "building tree 2 of 50\n",
      "building tree 3 of 50\n",
      "building tree 4 of 50\n",
      "building tree 5 of 50\n",
      "building tree 6 of 50\n",
      "building tree 7 of 50\n",
      "building tree 8 of 50\n",
      "building tree 9 of 50\n",
      "building tree 10 of 50\n",
      "building tree 11 of 50\n",
      "building tree 12 of 50\n",
      "building tree 13 of 50\n",
      "building tree 14 of 50\n"
     ]
    },
    {
     "name": "stderr",
     "output_type": "stream",
     "text": [
      "[Parallel(n_jobs=-1)]: Done  10 tasks      | elapsed:   23.9s\n"
     ]
    },
    {
     "name": "stdout",
     "output_type": "stream",
     "text": [
      "building tree 15 of 50\n",
      "building tree 16 of 50\n",
      "building tree 17 of 50\n",
      "building tree 18 of 50\n",
      "building tree 19 of 50\n",
      "building tree 20 of 50\n",
      "building tree 21 of 50\n",
      "building tree 22 of 50\n",
      "building tree 23 of 50\n",
      "building tree 24 of 50\n",
      "building tree 25 of 50\n",
      "building tree 26 of 50\n",
      "building tree 27 of 50\n",
      "building tree 28 of 50\n",
      "building tree 29 of 50\n",
      "building tree 30 of 50\n",
      "building tree 31 of 50\n",
      "building tree 32 of 50\n",
      "building tree 33 of 50\n",
      "building tree 34 of 50\n",
      "building tree 35 of 50\n",
      "building tree 36 of 50\n",
      "building tree 37 of 50\n",
      "building tree 38 of 50\n",
      "building tree 39 of 50\n",
      "building tree 40 of 50\n",
      "building tree 41 of 50\n",
      "building tree 42 of 50\n",
      "building tree 43 of 50\n",
      "building tree 44 of 50\n",
      "building tree 45 of 50\n",
      "building tree 46 of 50\n",
      "building tree 47 of 50\n",
      "building tree 48 of 50\n",
      "building tree 49 of 50\n",
      "building tree 50 of 50\n"
     ]
    },
    {
     "name": "stderr",
     "output_type": "stream",
     "text": [
      "[Parallel(n_jobs=-1)]: Done  50 out of  50 | elapsed:  1.5min finished\n"
     ]
    },
    {
     "data": {
      "text/plain": [
       "RandomForestClassifier(bootstrap=True, class_weight='balanced',\n",
       "            criterion='gini', max_depth=None, max_features='auto',\n",
       "            max_leaf_nodes=None, min_impurity_decrease=0.0,\n",
       "            min_impurity_split=None, min_samples_leaf=30,\n",
       "            min_samples_split=2, min_weight_fraction_leaf=0.0,\n",
       "            n_estimators=50, n_jobs=-1, oob_score=False, random_state=10,\n",
       "            verbose=5, warm_start=False)"
      ]
     },
     "execution_count": 315,
     "metadata": {},
     "output_type": "execute_result"
    }
   ],
   "source": [
    "rf.fit(X_train, y_train)"
   ]
  },
  {
   "cell_type": "code",
   "execution_count": 316,
   "metadata": {
    "colab": {
     "base_uri": "https://localhost:8080/",
     "height": 170
    },
    "colab_type": "code",
    "id": "LHGrRADCNUpw",
    "outputId": "cfeb164b-7714-4e1a-dfc2-11cdac02c1a0"
   },
   "outputs": [],
   "source": [
    "# for i in  ['Discount', 'First_txn_days', 'Gender', 'Geo_Field', 'Income_Range',\n",
    "#        'Invoices', 'Item_Count', 'Job_Type', 'Language', 'Last_Pur_Week',\n",
    "#        'Last_Pur_Year', 'Last_accr_txn_days', 'Loyalty_Status',\n",
    "#        'Marital_Status',  'Points', \n",
    "#        'Return_Reason', 'Revenue', 'Store_Format',\n",
    "#         'isMall']:\n",
    "#     cols = ['Nationality', 'State', 'Region_Code', 'Sales_Per_Day',\n",
    "#        'Store_Size_Sq_Ft']\n",
    "#     cols.append(i)\n",
    "#     print(cols)\n",
    "#     X1_train = train_df[cols]\n",
    "#     y1_train = train_df['Prediction']\n",
    "    \n",
    "#     X_train, X_test, y_train, y_test = train_test_split(X1_train, y1_train, stratify = y1_train,test_size=0.20, random_state=42)\n",
    "#     rf.fit(X_train, y_train)\n",
    "#     y_pred=rf.predict(X_test)\n",
    "#     print(\"f1\", f1_score(y_test, y_pred))"
   ]
  },
  {
   "cell_type": "code",
   "execution_count": 317,
   "metadata": {},
   "outputs": [],
   "source": [
    "# cols = ['Nationality', 'State', 'Region_Code', 'Sales_Per_Day',\n",
    "#    'Store_Size_Sq_Ft']\n",
    "# print(cols)\n",
    "# X1_train = train_df[cols]\n",
    "# y1_train = train_df['Prediction']\n",
    "# X_train, X_test, y_train, y_test = train_test_split(X1_train, y1_train, stratify = y1_train,test_size=0.20, random_state=42)\n",
    "# rf.fit(X_train, y_train)\n",
    "# y_pred=rf.predict(X_test)\n",
    "# print(\"f1\", f1_score(y_test, y_pred))"
   ]
  },
  {
   "cell_type": "code",
   "execution_count": 318,
   "metadata": {
    "colab": {},
    "colab_type": "code",
    "id": "iJL5ymTyNmqa"
   },
   "outputs": [
    {
     "data": {
      "text/plain": [
       "State               0.364208\n",
       "Geo_Field           0.128824\n",
       "Nationality         0.127009\n",
       "Region_Code         0.096000\n",
       "Sales_Per_Day       0.094200\n",
       "Store_Size_Sq_Ft    0.079872\n",
       "Invoices            0.065977\n",
       "Item_Count          0.043910\n",
       "dtype: float64"
      ]
     },
     "execution_count": 318,
     "metadata": {},
     "output_type": "execute_result"
    }
   ],
   "source": [
    "feature_imp = pd.Series(rf.feature_importances_, index=feature_names).sort_values(ascending=False)\n",
    "feature_imp"
   ]
  },
  {
   "cell_type": "code",
   "execution_count": 319,
   "metadata": {
    "colab": {},
    "colab_type": "code",
    "id": "1w8OrFbSL96u",
    "scrolled": true
   },
   "outputs": [
    {
     "name": "stderr",
     "output_type": "stream",
     "text": [
      "[Parallel(n_jobs=4)]: Using backend ThreadingBackend with 4 concurrent workers.\n",
      "[Parallel(n_jobs=4)]: Done  10 tasks      | elapsed:    0.5s\n",
      "[Parallel(n_jobs=4)]: Done  50 out of  50 | elapsed:    2.1s finished\n"
     ]
    },
    {
     "name": "stdout",
     "output_type": "stream",
     "text": [
      "Accuracy: 0.7893\n",
      "matrix [[460087 123056]\n",
      " [  7578  29279]]\n",
      "auc 0.7916862777984628\n",
      "f1 0.3095162586155863\n",
      "report               precision    recall  f1-score   support\n",
      "\n",
      "         0.0       0.98      0.79      0.88    583143\n",
      "         1.0       0.19      0.79      0.31     36857\n",
      "\n",
      "   micro avg       0.79      0.79      0.79    620000\n",
      "   macro avg       0.59      0.79      0.59    620000\n",
      "weighted avg       0.94      0.79      0.84    620000\n",
      "\n"
     ]
    }
   ],
   "source": [
    "from sklearn.metrics import accuracy_score, roc_auc_score, f1_score,fbeta_score\n",
    "from sklearn.metrics import confusion_matrix\n",
    "from sklearn import metrics \n",
    "\n",
    "# Model Accuracy, how often is the classifier correct?\n",
    "# prediction on test set\n",
    "\n",
    "y_pred=rf.predict(X_test)\n",
    "print(\"Accuracy:\", metrics.accuracy_score(y_pred, y_test))\n",
    "print(\"matrix\", confusion_matrix(y_test, y_pred))\n",
    "print(\"auc\", roc_auc_score(y_test, y_pred))\n",
    "print(\"f1\", f1_score(y_test, y_pred))\n",
    "# print(\"f2\", fbeta_score(y_test, y_pred))\n",
    "\n",
    "from sklearn.metrics import classification_report\n",
    "\n",
    "print('report', classification_report(y_test, y_pred))"
   ]
  },
  {
   "cell_type": "markdown",
   "metadata": {},
   "source": [
    "# Predict"
   ]
  },
  {
   "cell_type": "code",
   "execution_count": 308,
   "metadata": {},
   "outputs": [
    {
     "name": "stderr",
     "output_type": "stream",
     "text": [
      "[Parallel(n_jobs=4)]: Using backend ThreadingBackend with 4 concurrent workers.\n",
      "[Parallel(n_jobs=4)]: Done  10 tasks      | elapsed:    0.2s\n",
      "[Parallel(n_jobs=4)]: Done  50 out of  50 | elapsed:    0.8s finished\n"
     ]
    }
   ],
   "source": [
    "test_df['Prediction'] = rf.predict(test_df.drop([ 'Customer_ID', 'Store_Code'], axis=1))"
   ]
  },
  {
   "cell_type": "code",
   "execution_count": 309,
   "metadata": {},
   "outputs": [],
   "source": [
    "test_df = test_df[[ 'Customer_ID', 'Store_Code', 'Prediction']]"
   ]
  },
  {
   "cell_type": "code",
   "execution_count": 310,
   "metadata": {},
   "outputs": [
    {
     "data": {
      "text/plain": [
       "0.0    260134\n",
       "1.0    139866\n",
       "Name: Prediction, dtype: int64"
      ]
     },
     "execution_count": 310,
     "metadata": {},
     "output_type": "execute_result"
    }
   ],
   "source": [
    "test_df.Prediction.value_counts()"
   ]
  },
  {
   "cell_type": "code",
   "execution_count": 311,
   "metadata": {},
   "outputs": [],
   "source": [
    "test_df.to_csv(\"prediction.csv\", index=False)"
   ]
  },
  {
   "cell_type": "code",
   "execution_count": null,
   "metadata": {},
   "outputs": [],
   "source": []
  }
 ],
 "metadata": {
  "accelerator": "TPU",
  "colab": {
   "collapsed_sections": [],
   "name": "Modelling_Hackathon.ipynb",
   "provenance": [],
   "version": "0.3.2"
  },
  "kernelspec": {
   "display_name": "3point6",
   "language": "python",
   "name": "3point6"
  },
  "language_info": {
   "codemirror_mode": {
    "name": "ipython",
    "version": 3
   },
   "file_extension": ".py",
   "mimetype": "text/x-python",
   "name": "python",
   "nbconvert_exporter": "python",
   "pygments_lexer": "ipython3",
   "version": "3.6.6"
  }
 },
 "nbformat": 4,
 "nbformat_minor": 1
}
