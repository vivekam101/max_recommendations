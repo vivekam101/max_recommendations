{
 "cells": [
  {
   "cell_type": "code",
   "execution_count": 61,
   "metadata": {},
   "outputs": [],
   "source": [
    "import numpy as np\n",
    "import pandas as pd"
   ]
  },
  {
   "cell_type": "markdown",
   "metadata": {},
   "source": [
    "# STORE"
   ]
  },
  {
   "cell_type": "code",
   "execution_count": 62,
   "metadata": {},
   "outputs": [],
   "source": [
    "store = pd.read_excel('data/Store_Master.xlsx')"
   ]
  },
  {
   "cell_type": "code",
   "execution_count": 63,
   "metadata": {},
   "outputs": [],
   "source": [
    "store[\"isMall\"] = 1\n",
    "store.loc[store[\"Mall_Name\"] == \"STANDALONE\" ,\"isMall\"] = 0"
   ]
  },
  {
   "cell_type": "code",
   "execution_count": 64,
   "metadata": {},
   "outputs": [
    {
     "data": {
      "text/html": [
       "<div>\n",
       "<style scoped>\n",
       "    .dataframe tbody tr th:only-of-type {\n",
       "        vertical-align: middle;\n",
       "    }\n",
       "\n",
       "    .dataframe tbody tr th {\n",
       "        vertical-align: top;\n",
       "    }\n",
       "\n",
       "    .dataframe thead th {\n",
       "        text-align: right;\n",
       "    }\n",
       "</style>\n",
       "<table border=\"1\" class=\"dataframe\">\n",
       "  <thead>\n",
       "    <tr style=\"text-align: right;\">\n",
       "      <th></th>\n",
       "      <th>Territory</th>\n",
       "      <th>Business</th>\n",
       "      <th>Region</th>\n",
       "      <th>Region_Code</th>\n",
       "      <th>Store_Code</th>\n",
       "      <th>Store_Name</th>\n",
       "      <th>Mall_Name</th>\n",
       "      <th>Store_Format</th>\n",
       "      <th>Sales_Per_Day</th>\n",
       "      <th>Store_Launch_Date</th>\n",
       "      <th>Train_Test_Store</th>\n",
       "      <th>Geo_Field</th>\n",
       "      <th>Store_Size_Sq_Ft</th>\n",
       "      <th>Customer_Count</th>\n",
       "      <th>Total_Revenue</th>\n",
       "      <th>isMall</th>\n",
       "    </tr>\n",
       "  </thead>\n",
       "  <tbody>\n",
       "    <tr>\n",
       "      <th>30</th>\n",
       "      <td>United Arab Emirates</td>\n",
       "      <td>Max</td>\n",
       "      <td>MX - Abu Dhabi</td>\n",
       "      <td>602</td>\n",
       "      <td>60275</td>\n",
       "      <td>Max Makhani Zakher</td>\n",
       "      <td>Abu Dhabi Co-Op Mall-UAE</td>\n",
       "      <td>NaN</td>\n",
       "      <td>498.182287</td>\n",
       "      <td>2017-03-20</td>\n",
       "      <td>Train</td>\n",
       "      <td>24.503005, 54.382945</td>\n",
       "      <td>2178.431368</td>\n",
       "      <td>13669.0</td>\n",
       "      <td>5271266.780</td>\n",
       "      <td>1</td>\n",
       "    </tr>\n",
       "    <tr>\n",
       "      <th>31</th>\n",
       "      <td>United Arab Emirates</td>\n",
       "      <td>Max</td>\n",
       "      <td>MX - Abu Dhabi</td>\n",
       "      <td>602</td>\n",
       "      <td>60301</td>\n",
       "      <td>MAX- Abudhabi Al Wahda</td>\n",
       "      <td>AL Wahda</td>\n",
       "      <td>Mall Stores</td>\n",
       "      <td>10861.009520</td>\n",
       "      <td>2018-01-30</td>\n",
       "      <td>Test</td>\n",
       "      <td>24.470587, 54.372679</td>\n",
       "      <td>23288.338616</td>\n",
       "      <td>NaN</td>\n",
       "      <td>7472374.550</td>\n",
       "      <td>1</td>\n",
       "    </tr>\n",
       "    <tr>\n",
       "      <th>32</th>\n",
       "      <td>United Arab Emirates</td>\n",
       "      <td>Max</td>\n",
       "      <td>MX - Sharjah</td>\n",
       "      <td>606</td>\n",
       "      <td>60298</td>\n",
       "      <td>MAX - Matejer Al Juraina</td>\n",
       "      <td>Matejer Al Juraina</td>\n",
       "      <td>Mall Stores</td>\n",
       "      <td>4099.543401</td>\n",
       "      <td>2018-01-07</td>\n",
       "      <td>Test</td>\n",
       "      <td>25.296484, 55.489202</td>\n",
       "      <td>8391.589347</td>\n",
       "      <td>NaN</td>\n",
       "      <td>2820485.860</td>\n",
       "      <td>1</td>\n",
       "    </tr>\n",
       "    <tr>\n",
       "      <th>33</th>\n",
       "      <td>United Arab Emirates</td>\n",
       "      <td>Max</td>\n",
       "      <td>MX - Abu Dhabi</td>\n",
       "      <td>602</td>\n",
       "      <td>60300</td>\n",
       "      <td>MAX-WTC</td>\n",
       "      <td>WTC</td>\n",
       "      <td>Mall Stores</td>\n",
       "      <td>7036.233391</td>\n",
       "      <td>2018-02-01</td>\n",
       "      <td>Test</td>\n",
       "      <td>24.487658, 54.357529</td>\n",
       "      <td>6604.762130</td>\n",
       "      <td>NaN</td>\n",
       "      <td>2701913.622</td>\n",
       "      <td>1</td>\n",
       "    </tr>\n",
       "    <tr>\n",
       "      <th>34</th>\n",
       "      <td>United Arab Emirates</td>\n",
       "      <td>Max</td>\n",
       "      <td>MX - Abu Dhabi</td>\n",
       "      <td>602</td>\n",
       "      <td>60299</td>\n",
       "      <td>MAX-Alain Mall</td>\n",
       "      <td>Alain Mall</td>\n",
       "      <td>Mall Stores</td>\n",
       "      <td>5157.825699</td>\n",
       "      <td>2018-02-01</td>\n",
       "      <td>Test</td>\n",
       "      <td>24.222016, 55.781629</td>\n",
       "      <td>3266.388547</td>\n",
       "      <td>NaN</td>\n",
       "      <td>479677.790</td>\n",
       "      <td>1</td>\n",
       "    </tr>\n",
       "  </tbody>\n",
       "</table>\n",
       "</div>"
      ],
      "text/plain": [
       "               Territory Business          Region  Region_Code  Store_Code  \\\n",
       "30  United Arab Emirates      Max  MX - Abu Dhabi          602       60275   \n",
       "31  United Arab Emirates      Max  MX - Abu Dhabi          602       60301   \n",
       "32  United Arab Emirates      Max    MX - Sharjah          606       60298   \n",
       "33  United Arab Emirates      Max  MX - Abu Dhabi          602       60300   \n",
       "34  United Arab Emirates      Max  MX - Abu Dhabi          602       60299   \n",
       "\n",
       "                  Store_Name                 Mall_Name Store_Format  \\\n",
       "30        Max Makhani Zakher  Abu Dhabi Co-Op Mall-UAE          NaN   \n",
       "31    MAX- Abudhabi Al Wahda                  AL Wahda  Mall Stores   \n",
       "32  MAX - Matejer Al Juraina        Matejer Al Juraina  Mall Stores   \n",
       "33                   MAX-WTC                       WTC  Mall Stores   \n",
       "34            MAX-Alain Mall                Alain Mall  Mall Stores   \n",
       "\n",
       "    Sales_Per_Day Store_Launch_Date Train_Test_Store             Geo_Field  \\\n",
       "30     498.182287        2017-03-20            Train  24.503005, 54.382945   \n",
       "31   10861.009520        2018-01-30             Test  24.470587, 54.372679   \n",
       "32    4099.543401        2018-01-07             Test  25.296484, 55.489202   \n",
       "33    7036.233391        2018-02-01             Test  24.487658, 54.357529   \n",
       "34    5157.825699        2018-02-01             Test  24.222016, 55.781629   \n",
       "\n",
       "    Store_Size_Sq_Ft  Customer_Count  Total_Revenue  isMall  \n",
       "30       2178.431368         13669.0    5271266.780       1  \n",
       "31      23288.338616             NaN    7472374.550       1  \n",
       "32       8391.589347             NaN    2820485.860       1  \n",
       "33       6604.762130             NaN    2701913.622       1  \n",
       "34       3266.388547             NaN     479677.790       1  "
      ]
     },
     "execution_count": 64,
     "metadata": {},
     "output_type": "execute_result"
    }
   ],
   "source": [
    "store.tail()"
   ]
  },
  {
   "cell_type": "code",
   "execution_count": 65,
   "metadata": {},
   "outputs": [],
   "source": [
    "# dropping columns which has no distinct values or not useful\n",
    "store.drop(['Territory', 'Business', 'Store_Name', 'Mall_Name', 'Train_Test_Store','Customer_Count', 'Total_Revenue', 'Geo_Field',\\\n",
    "            'Store_Launch_Date', 'Region' ], inplace=True, axis=1)"
   ]
  },
  {
   "cell_type": "code",
   "execution_count": 66,
   "metadata": {},
   "outputs": [],
   "source": [
    "store.Store_Format.fillna(\"Mall Stores\", inplace=True)"
   ]
  },
  {
   "cell_type": "code",
   "execution_count": 67,
   "metadata": {},
   "outputs": [
    {
     "data": {
      "text/plain": [
       "Region_Code         0\n",
       "Store_Code          0\n",
       "Store_Format        0\n",
       "Sales_Per_Day       0\n",
       "Store_Size_Sq_Ft    0\n",
       "isMall              0\n",
       "dtype: int64"
      ]
     },
     "execution_count": 67,
     "metadata": {},
     "output_type": "execute_result"
    }
   ],
   "source": [
    "store.isnull().sum()"
   ]
  },
  {
   "cell_type": "code",
   "execution_count": 68,
   "metadata": {},
   "outputs": [
    {
     "data": {
      "text/html": [
       "<div>\n",
       "<style scoped>\n",
       "    .dataframe tbody tr th:only-of-type {\n",
       "        vertical-align: middle;\n",
       "    }\n",
       "\n",
       "    .dataframe tbody tr th {\n",
       "        vertical-align: top;\n",
       "    }\n",
       "\n",
       "    .dataframe thead th {\n",
       "        text-align: right;\n",
       "    }\n",
       "</style>\n",
       "<table border=\"1\" class=\"dataframe\">\n",
       "  <thead>\n",
       "    <tr style=\"text-align: right;\">\n",
       "      <th></th>\n",
       "      <th>Region_Code</th>\n",
       "      <th>Store_Code</th>\n",
       "      <th>Store_Format</th>\n",
       "      <th>Sales_Per_Day</th>\n",
       "      <th>Store_Size_Sq_Ft</th>\n",
       "      <th>isMall</th>\n",
       "    </tr>\n",
       "  </thead>\n",
       "  <tbody>\n",
       "    <tr>\n",
       "      <th>0</th>\n",
       "      <td>602</td>\n",
       "      <td>60077</td>\n",
       "      <td>Mall Stores</td>\n",
       "      <td>544.074849</td>\n",
       "      <td>4852.220341</td>\n",
       "      <td>1</td>\n",
       "    </tr>\n",
       "    <tr>\n",
       "      <th>1</th>\n",
       "      <td>606</td>\n",
       "      <td>60073</td>\n",
       "      <td>Mall Stores</td>\n",
       "      <td>1251.656549</td>\n",
       "      <td>13789.949661</td>\n",
       "      <td>1</td>\n",
       "    </tr>\n",
       "    <tr>\n",
       "      <th>2</th>\n",
       "      <td>601</td>\n",
       "      <td>60065</td>\n",
       "      <td>Mall Stores</td>\n",
       "      <td>3319.885702</td>\n",
       "      <td>15609.687991</td>\n",
       "      <td>1</td>\n",
       "    </tr>\n",
       "    <tr>\n",
       "      <th>3</th>\n",
       "      <td>601</td>\n",
       "      <td>60219</td>\n",
       "      <td>Stand Alone Stores</td>\n",
       "      <td>1211.477261</td>\n",
       "      <td>6845.497058</td>\n",
       "      <td>1</td>\n",
       "    </tr>\n",
       "    <tr>\n",
       "      <th>4</th>\n",
       "      <td>605</td>\n",
       "      <td>60071</td>\n",
       "      <td>Mall Stores</td>\n",
       "      <td>2221.872874</td>\n",
       "      <td>12385.047461</td>\n",
       "      <td>0</td>\n",
       "    </tr>\n",
       "  </tbody>\n",
       "</table>\n",
       "</div>"
      ],
      "text/plain": [
       "   Region_Code  Store_Code        Store_Format  Sales_Per_Day  \\\n",
       "0          602       60077         Mall Stores     544.074849   \n",
       "1          606       60073         Mall Stores    1251.656549   \n",
       "2          601       60065         Mall Stores    3319.885702   \n",
       "3          601       60219  Stand Alone Stores    1211.477261   \n",
       "4          605       60071         Mall Stores    2221.872874   \n",
       "\n",
       "   Store_Size_Sq_Ft  isMall  \n",
       "0       4852.220341       1  \n",
       "1      13789.949661       1  \n",
       "2      15609.687991       1  \n",
       "3       6845.497058       1  \n",
       "4      12385.047461       0  "
      ]
     },
     "execution_count": 68,
     "metadata": {},
     "output_type": "execute_result"
    }
   ],
   "source": [
    "store.head()"
   ]
  },
  {
   "cell_type": "code",
   "execution_count": 69,
   "metadata": {},
   "outputs": [],
   "source": [
    "cols = ['Store_Format']"
   ]
  },
  {
   "cell_type": "code",
   "execution_count": 70,
   "metadata": {},
   "outputs": [],
   "source": [
    "from sklearn import preprocessing\n",
    "le = preprocessing.LabelEncoder()\n",
    "store[cols] = store[cols].apply(le.fit_transform)"
   ]
  },
  {
   "cell_type": "code",
   "execution_count": 71,
   "metadata": {},
   "outputs": [],
   "source": [
    "# store.set_index('Store_Code', inplace=True)"
   ]
  },
  {
   "cell_type": "code",
   "execution_count": 72,
   "metadata": {},
   "outputs": [],
   "source": [
    "from sklearn.preprocessing import MinMaxScaler\n",
    "minmaxscaler = MinMaxScaler()"
   ]
  },
  {
   "cell_type": "code",
   "execution_count": 73,
   "metadata": {},
   "outputs": [
    {
     "name": "stderr",
     "output_type": "stream",
     "text": [
      "/home/vivekviswambharan/anaconda3/envs/3point6/lib/python3.6/site-packages/sklearn/preprocessing/data.py:323: DataConversionWarning: Data with input dtype int64, float64 were all converted to float64 by MinMaxScaler.\n",
      "  return self.partial_fit(X, y)\n"
     ]
    }
   ],
   "source": [
    "store_np = minmaxscaler.fit_transform(store)"
   ]
  },
  {
   "cell_type": "code",
   "execution_count": 74,
   "metadata": {},
   "outputs": [
    {
     "data": {
      "text/plain": [
       "array([[0.2 , 0.1 , 0.  , 0.02, 0.03, 1.  ],\n",
       "       [1.  , 0.08, 0.  , 0.08, 0.13, 1.  ],\n",
       "       [0.  , 0.05, 0.  , 0.28, 0.15, 1.  ],\n",
       "       [0.  , 0.67, 1.  , 0.08, 0.05, 1.  ],\n",
       "       [0.8 , 0.07, 0.  , 0.18, 0.11, 0.  ],\n",
       "       [0.6 , 0.04, 0.  , 0.25, 0.03, 0.  ],\n",
       "       [1.  , 0.09, 0.  , 0.18, 0.08, 0.  ],\n",
       "       [0.4 , 0.01, 0.  , 0.16, 0.09, 1.  ],\n",
       "       [0.  , 0.05, 0.  , 0.09, 0.15, 1.  ],\n",
       "       [0.2 , 0.06, 0.  , 0.13, 0.07, 1.  ],\n",
       "       [0.  , 0.76, 0.  , 0.  , 0.01, 1.  ],\n",
       "       [0.  , 0.07, 0.  , 0.28, 0.19, 1.  ],\n",
       "       [0.  , 0.04, 0.  , 0.04, 0.04, 1.  ],\n",
       "       [0.8 , 0.08, 0.  , 0.15, 0.02, 1.  ],\n",
       "       [0.2 , 0.02, 0.  , 0.15, 0.07, 1.  ],\n",
       "       [1.  , 0.08, 0.  , 0.22, 0.01, 0.  ],\n",
       "       [0.6 , 0.04, 0.  , 0.15, 0.07, 1.  ],\n",
       "       [1.  , 0.09, 0.  , 0.18, 1.  , 1.  ],\n",
       "       [0.2 , 0.06, 0.  , 0.14, 0.05, 1.  ],\n",
       "       [0.2 , 0.1 , 1.  , 0.08, 0.02, 1.  ],\n",
       "       [0.  , 0.02, 0.  , 0.16, 0.08, 0.  ],\n",
       "       [0.  , 0.13, 0.  , 0.21, 0.12, 1.  ],\n",
       "       [0.  , 0.03, 0.  , 0.17, 0.07, 0.  ],\n",
       "       [0.2 , 0.73, 0.  , 0.06, 0.16, 1.  ],\n",
       "       [0.  , 0.06, 0.  , 0.39, 0.23, 1.  ],\n",
       "       [0.  , 0.79, 0.  , 0.04, 0.06, 1.  ],\n",
       "       [0.2 , 0.02, 0.  , 0.26, 0.18, 1.  ],\n",
       "       [0.  , 0.03, 0.  , 0.32, 0.23, 1.  ],\n",
       "       [0.2 , 0.  , 0.  , 0.26, 0.19, 0.  ],\n",
       "       [0.2 , 0.  , 0.  , 0.17, 0.11, 1.  ],\n",
       "       [0.2 , 0.9 , 0.  , 0.01, 0.  , 1.  ],\n",
       "       [0.2 , 1.  , 0.  , 1.  , 0.23, 1.  ],\n",
       "       [1.  , 0.99, 0.  , 0.36, 0.07, 1.  ],\n",
       "       [0.2 , 1.  , 0.  , 0.64, 0.05, 1.  ],\n",
       "       [0.2 , 0.99, 0.  , 0.46, 0.01, 1.  ]])"
      ]
     },
     "execution_count": 74,
     "metadata": {},
     "output_type": "execute_result"
    }
   ],
   "source": [
    "np.round(store_np,2)"
   ]
  },
  {
   "cell_type": "code",
   "execution_count": 75,
   "metadata": {},
   "outputs": [],
   "source": [
    "from sklearn.neighbors import NearestNeighbors"
   ]
  },
  {
   "cell_type": "code",
   "execution_count": 76,
   "metadata": {},
   "outputs": [],
   "source": [
    "nbrs = NearestNeighbors(n_neighbors = 5, algorithm='ball_tree' ).fit(store_np)"
   ]
  },
  {
   "cell_type": "code",
   "execution_count": 77,
   "metadata": {},
   "outputs": [],
   "source": [
    "distances, indices = nbrs.kneighbors(store_np)"
   ]
  },
  {
   "cell_type": "code",
   "execution_count": 78,
   "metadata": {},
   "outputs": [
    {
     "data": {
      "text/plain": [
       "array([[ 0,  9, 18, 14, 29],\n",
       "       [ 1, 13, 16,  7,  9],\n",
       "       [ 2, 11, 27, 21, 24],\n",
       "       [ 3, 19, 10, 25, 23],\n",
       "       [ 4,  6, 15,  5, 28],\n",
       "       [ 5,  4, 15,  6, 28],\n",
       "       [ 6, 15,  4,  5, 28],\n",
       "       [ 7, 14, 29, 16,  9],\n",
       "       [ 8, 12, 21,  2, 11],\n",
       "       [ 9, 18, 14, 29,  0],\n",
       "       [10, 25, 30, 23, 34],\n",
       "       [11,  2, 27, 24, 21],\n",
       "       [12,  8, 21,  0,  9],\n",
       "       [13, 16,  1,  7, 18],\n",
       "       [14,  9, 29, 18, 26],\n",
       "       [15,  6,  4,  5, 28],\n",
       "       [16,  7, 13, 14,  9],\n",
       "       [17,  1, 13, 16,  7],\n",
       "       [18,  9, 14, 29,  0],\n",
       "       [19,  3,  0, 18,  9],\n",
       "       [20, 22, 28,  5,  4],\n",
       "       [21,  2, 11,  8, 27],\n",
       "       [22, 20, 28,  5,  4],\n",
       "       [23, 25, 30, 10, 34],\n",
       "       [24, 27, 11,  2, 21],\n",
       "       [25, 10, 23, 30, 34],\n",
       "       [26, 29, 14,  9, 18],\n",
       "       [27, 11, 24,  2, 21],\n",
       "       [28, 20, 22,  5,  4],\n",
       "       [29, 14,  9, 18, 26],\n",
       "       [30, 25, 23, 10, 34],\n",
       "       [31, 33, 34, 23, 25],\n",
       "       [32, 34, 33, 30, 23],\n",
       "       [33, 34, 31, 30, 23],\n",
       "       [34, 33, 30, 23, 25]])"
      ]
     },
     "execution_count": 78,
     "metadata": {},
     "output_type": "execute_result"
    }
   ],
   "source": [
    "indices"
   ]
  },
  {
   "cell_type": "code",
   "execution_count": 79,
   "metadata": {},
   "outputs": [
    {
     "data": {
      "text/plain": [
       "array([[0.        , 0.12458218, 0.12681712, 0.16156148, 0.19380059],\n",
       "       [0.        , 0.23645666, 0.41162293, 0.61034096, 0.80347542],\n",
       "       [0.        , 0.04242895, 0.09222977, 0.11653979, 0.13886118],\n",
       "       [0.        , 0.59989843, 1.00815742, 1.00870476, 1.02693782],\n",
       "       [0.        , 0.20305009, 0.22645446, 0.23051878, 0.61465417],\n",
       "       [0.        , 0.23051878, 0.40373674, 0.41171718, 0.43321818],\n",
       "       [0.        , 0.07571626, 0.20305009, 0.41171718, 0.81563108],\n",
       "       [0.        , 0.20098172, 0.20178388, 0.20457381, 0.20883178],\n",
       "       [0.        , 0.12188325, 0.14413713, 0.18959861, 0.19426764],\n",
       "       [0.        , 0.02557186, 0.04428661, 0.07690441, 0.12458218],\n",
       "       [0.        , 0.07743276, 0.24285879, 0.26085229, 0.55049323],\n",
       "       [0.        , 0.04242895, 0.0700843 , 0.11833397, 0.11959573],\n",
       "       [0.        , 0.12188325, 0.20926681, 0.21039153, 0.22191534],\n",
       "       [0.        , 0.20726868, 0.23645666, 0.41101727, 0.60095347],\n",
       "       [0.        , 0.04428661, 0.04497751, 0.05204462, 0.14964057],\n",
       "       [0.        , 0.07571626, 0.22645446, 0.40373674, 0.82404097],\n",
       "       [0.        , 0.20457381, 0.20726868, 0.40079911, 0.40087045],\n",
       "       [0.        , 0.87775052, 0.99864334, 1.0178696 , 1.09605049],\n",
       "       [0.        , 0.02557186, 0.05204462, 0.09152913, 0.12681712],\n",
       "       [0.        , 0.59989843, 1.0020243 , 1.00309765, 1.00382398],\n",
       "       [0.        , 0.01867215, 0.24789653, 0.60875241, 0.80218537],\n",
       "       [0.        , 0.11653979, 0.11959573, 0.14413713, 0.18959783],\n",
       "       [0.        , 0.01867215, 0.25088439, 0.60607503, 0.80249338],\n",
       "       [0.        , 0.23308801, 0.23674537, 0.26085229, 0.49544633],\n",
       "       [0.        , 0.07158087, 0.11833397, 0.13886118, 0.22811863],\n",
       "       [0.        , 0.07743276, 0.23308801, 0.2339598 , 0.50612972],\n",
       "       [0.        , 0.11481013, 0.14964057, 0.17422727, 0.1826953 ],\n",
       "       [0.        , 0.0700843 , 0.07158087, 0.09222977, 0.18959783],\n",
       "       [0.        , 0.24789653, 0.25088439, 0.43321818, 0.61465417],\n",
       "       [0.        , 0.04497751, 0.07690441, 0.09152913, 0.11481013],\n",
       "       [0.        , 0.2339598 , 0.23674537, 0.24285879, 0.4547056 ],\n",
       "       [0.        , 0.40812559, 0.58653372, 0.97776903, 1.01758164],\n",
       "       [0.        , 0.80831089, 0.84781989, 0.87811989, 0.89513967],\n",
       "       [0.        , 0.18280629, 0.40812559, 0.63313893, 0.64087969],\n",
       "       [0.        , 0.18280629, 0.4547056 , 0.49544633, 0.50612972]])"
      ]
     },
     "execution_count": 79,
     "metadata": {},
     "output_type": "execute_result"
    }
   ],
   "source": [
    "distances"
   ]
  },
  {
   "cell_type": "code",
   "execution_count": 80,
   "metadata": {},
   "outputs": [
    {
     "data": {
      "text/html": [
       "<div>\n",
       "<style scoped>\n",
       "    .dataframe tbody tr th:only-of-type {\n",
       "        vertical-align: middle;\n",
       "    }\n",
       "\n",
       "    .dataframe tbody tr th {\n",
       "        vertical-align: top;\n",
       "    }\n",
       "\n",
       "    .dataframe thead th {\n",
       "        text-align: right;\n",
       "    }\n",
       "</style>\n",
       "<table border=\"1\" class=\"dataframe\">\n",
       "  <thead>\n",
       "    <tr style=\"text-align: right;\">\n",
       "      <th></th>\n",
       "      <th>Region_Code</th>\n",
       "      <th>Store_Code</th>\n",
       "      <th>Store_Format</th>\n",
       "      <th>Sales_Per_Day</th>\n",
       "      <th>Store_Size_Sq_Ft</th>\n",
       "      <th>isMall</th>\n",
       "    </tr>\n",
       "  </thead>\n",
       "  <tbody>\n",
       "    <tr>\n",
       "      <th>0</th>\n",
       "      <td>602</td>\n",
       "      <td>60077</td>\n",
       "      <td>0</td>\n",
       "      <td>544.074849</td>\n",
       "      <td>4852.220341</td>\n",
       "      <td>1</td>\n",
       "    </tr>\n",
       "    <tr>\n",
       "      <th>1</th>\n",
       "      <td>606</td>\n",
       "      <td>60073</td>\n",
       "      <td>0</td>\n",
       "      <td>1251.656549</td>\n",
       "      <td>13789.949661</td>\n",
       "      <td>1</td>\n",
       "    </tr>\n",
       "    <tr>\n",
       "      <th>2</th>\n",
       "      <td>601</td>\n",
       "      <td>60065</td>\n",
       "      <td>0</td>\n",
       "      <td>3319.885702</td>\n",
       "      <td>15609.687991</td>\n",
       "      <td>1</td>\n",
       "    </tr>\n",
       "    <tr>\n",
       "      <th>3</th>\n",
       "      <td>601</td>\n",
       "      <td>60219</td>\n",
       "      <td>1</td>\n",
       "      <td>1211.477261</td>\n",
       "      <td>6845.497058</td>\n",
       "      <td>1</td>\n",
       "    </tr>\n",
       "    <tr>\n",
       "      <th>4</th>\n",
       "      <td>605</td>\n",
       "      <td>60071</td>\n",
       "      <td>0</td>\n",
       "      <td>2221.872874</td>\n",
       "      <td>12385.047461</td>\n",
       "      <td>0</td>\n",
       "    </tr>\n",
       "  </tbody>\n",
       "</table>\n",
       "</div>"
      ],
      "text/plain": [
       "   Region_Code  Store_Code  Store_Format  Sales_Per_Day  Store_Size_Sq_Ft  \\\n",
       "0          602       60077             0     544.074849       4852.220341   \n",
       "1          606       60073             0    1251.656549      13789.949661   \n",
       "2          601       60065             0    3319.885702      15609.687991   \n",
       "3          601       60219             1    1211.477261       6845.497058   \n",
       "4          605       60071             0    2221.872874      12385.047461   \n",
       "\n",
       "   isMall  \n",
       "0       1  \n",
       "1       1  \n",
       "2       1  \n",
       "3       1  \n",
       "4       0  "
      ]
     },
     "execution_count": 80,
     "metadata": {},
     "output_type": "execute_result"
    }
   ],
   "source": [
    "#        [31, 33, 34, 24, 27],\n",
    "#        [32,  1, 13, 16,  7],\n",
    "#        [33, 34, 24, 26, 31],\n",
    "#        [34, 33, 26,  2, 24]\n",
    "        \n",
    "store.head()"
   ]
  },
  {
   "cell_type": "code",
   "execution_count": 95,
   "metadata": {},
   "outputs": [
    {
     "name": "stderr",
     "output_type": "stream",
     "text": [
      "/home/vivekviswambharan/anaconda3/envs/3point6/lib/python3.6/site-packages/ipykernel_launcher.py:1: DeprecationWarning: \n",
      ".ix is deprecated. Please use\n",
      ".loc for label based indexing or\n",
      ".iloc for positional indexing\n",
      "\n",
      "See the documentation here:\n",
      "http://pandas.pydata.org/pandas-docs/stable/indexing.html#ix-indexer-is-deprecated\n",
      "  \"\"\"Entry point for launching an IPython kernel.\n"
     ]
    },
    {
     "data": {
      "text/plain": [
       "60061.0"
      ]
     },
     "execution_count": 95,
     "metadata": {},
     "output_type": "execute_result"
    }
   ],
   "source": [
    "store.ix[27,:]['Store_Code']"
   ]
  },
  {
   "cell_type": "code",
   "execution_count": null,
   "metadata": {},
   "outputs": [],
   "source": [
    "# 60299 - > 60057,  60065, 60068\n",
    "# 60300 ->  60057, 60068\n",
    "# 60298 -> 60073, 60072, 60064, 60055\n",
    "# 60301 ->60068, 60061"
   ]
  },
  {
   "cell_type": "code",
   "execution_count": null,
   "metadata": {},
   "outputs": [],
   "source": []
  }
 ],
 "metadata": {
  "kernelspec": {
   "display_name": "3point6",
   "language": "python",
   "name": "3point6"
  },
  "language_info": {
   "codemirror_mode": {
    "name": "ipython",
    "version": 3
   },
   "file_extension": ".py",
   "mimetype": "text/x-python",
   "name": "python",
   "nbconvert_exporter": "python",
   "pygments_lexer": "ipython3",
   "version": "3.6.7"
  }
 },
 "nbformat": 4,
 "nbformat_minor": 2
}
