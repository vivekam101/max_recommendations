{
 "cells": [
  {
   "cell_type": "code",
   "execution_count": 140,
   "metadata": {
    "colab": {},
    "colab_type": "code",
    "id": "NTMIy5GcKCOt"
   },
   "outputs": [],
   "source": [
    "import numpy as np\n",
    "import pandas as pd"
   ]
  },
  {
   "cell_type": "code",
   "execution_count": 141,
   "metadata": {
    "colab": {
     "base_uri": "https://localhost:8080/",
     "height": 34
    },
    "colab_type": "code",
    "executionInfo": {
     "elapsed": 15582,
     "status": "ok",
     "timestamp": 1544511001482,
     "user": {
      "displayName": "VIVEK T.V.",
      "photoUrl": "",
      "userId": "00151430067648768806"
     },
     "user_tz": -330
    },
    "id": "a0sKa-daKCOz",
    "outputId": "4200be77-2560-4b1f-a657-2d4542e5b7af"
   },
   "outputs": [],
   "source": [
    "train_df = pd.read_csv(\"train_df_wo.csv\")\n",
    "# train_df = pd.read_csv(\"balanced_set.csv\")"
   ]
  },
  {
   "cell_type": "code",
   "execution_count": 142,
   "metadata": {},
   "outputs": [],
   "source": [
    "test_df = pd.read_csv('test_df.csv')"
   ]
  },
  {
   "cell_type": "code",
   "execution_count": 143,
   "metadata": {},
   "outputs": [],
   "source": [
    "cust_df = pd.read_csv(\"cust_demo.csv\")"
   ]
  },
  {
   "cell_type": "code",
   "execution_count": 144,
   "metadata": {
    "colab": {
     "base_uri": "https://localhost:8080/",
     "height": 253
    },
    "colab_type": "code",
    "executionInfo": {
     "elapsed": 15571,
     "status": "ok",
     "timestamp": 1544511001485,
     "user": {
      "displayName": "VIVEK T.V.",
      "photoUrl": "",
      "userId": "00151430067648768806"
     },
     "user_tz": -330
    },
    "id": "XrFuZXR7KCO3",
    "outputId": "9acb1570-58eb-4f74-da39-bd3a02103f2a"
   },
   "outputs": [
    {
     "data": {
      "text/plain": [
       "3100000"
      ]
     },
     "execution_count": 144,
     "metadata": {},
     "output_type": "execute_result"
    }
   ],
   "source": [
    "len(train_df)"
   ]
  },
  {
   "cell_type": "code",
   "execution_count": 145,
   "metadata": {},
   "outputs": [
    {
     "data": {
      "text/plain": [
       "400000"
      ]
     },
     "execution_count": 145,
     "metadata": {},
     "output_type": "execute_result"
    }
   ],
   "source": [
    "len(test_df)"
   ]
  },
  {
   "cell_type": "code",
   "execution_count": 146,
   "metadata": {},
   "outputs": [],
   "source": [
    "train_df = train_df[['Nationality', 'State', 'Region_Code', 'Sales_Per_Day',\n",
    "       'Store_Size_Sq_Ft', 'Customer_ID', 'Store_Code', 'Prediction',  'Item_Count', 'Invoices']]"
   ]
  },
  {
   "cell_type": "code",
   "execution_count": 147,
   "metadata": {},
   "outputs": [],
   "source": [
    "for i in range(200):\n",
    "    cust_df.loc[cust_df.groupby('Nationality').Nationality.transform('count').eq(i), 'Nationality'] = 'Group'+str(i)"
   ]
  },
  {
   "cell_type": "code",
   "execution_count": 148,
   "metadata": {},
   "outputs": [],
   "source": [
    "cust_df.loc[cust_df.Nationality.isin(['UNDEFINED', 'Unspecified']),'Nationality'] = \"UNKNOWN\""
   ]
  },
  {
   "cell_type": "code",
   "execution_count": 149,
   "metadata": {},
   "outputs": [
    {
     "data": {
      "text/plain": [
       "array(['INDIA', 'UNITED ARAB EMIRATES', 'SRI LANKA', 'JORDAN',\n",
       "       'OCCUPIED PALESTINIAN TERRITORY', 'ISLAMIC REPUBLIC OF IRAN',\n",
       "       'UNITED KINGDOM', 'UNDISCLOSED ARAB NATIONAL',\n",
       "       'SYRIAN ARAB REPUBLIC', 'YEMEN', 'PAKISTAN', 'IRAQ', 'SUDAN',\n",
       "       'Group107', 'LEBANON', 'EGYPT', 'PHILIPPINES', 'CANADA', 'Group72',\n",
       "       'Group131', 'KENYA', 'UNITED STATES', 'MOROCCO', 'UNKNOWN', 'OMAN',\n",
       "       'Group66', 'Group114', 'Group90', 'Group108', 'Group79', 'Group47',\n",
       "       'TUNISIA', 'BANGLADESH', 'ETHIOPIA', 'Group104', 'NEPAL',\n",
       "       'Group152', 'ALGERIA', 'INDONESIA', 'SOUTH AFRICA', 'Group130',\n",
       "       'Group60', 'Group30', 'Group110', 'Group80', 'Group157', 'Group23',\n",
       "       'Group122', 'Group98', 'Group164', 'Group153', 'Group166',\n",
       "       'Group68', 'Group184', 'PALESTINE', 'Group21', 'Group140',\n",
       "       'Group22', 'Group64', 'Group86', 'Group18', 'Group41', 'NIGERIA',\n",
       "       'Group39', 'Group27', 'Group48', 'Group95', 'Group84', 'Group63',\n",
       "       'Group28', 'Group161', 'Group91', 'Group57', 'Group62', 'Group37',\n",
       "       'Group56', 'Group53', 'Group25'], dtype=object)"
      ]
     },
     "execution_count": 149,
     "metadata": {},
     "output_type": "execute_result"
    }
   ],
   "source": [
    "cust_df.Nationality.unique()"
   ]
  },
  {
   "cell_type": "code",
   "execution_count": 150,
   "metadata": {},
   "outputs": [
    {
     "data": {
      "text/plain": [
       "Abu Dhabi         41715\n",
       "Dubai             23189\n",
       "Others            11619\n",
       "Sharjah           10919\n",
       "Unspecified        4804\n",
       "Ras Al Khaimah     2840\n",
       "Ajman              2593\n",
       "Fujairah           2074\n",
       "Umm Al Quwain       243\n",
       "Kuwait City           1\n",
       "Qatar                 1\n",
       "Muscat                1\n",
       "Bahrain               1\n",
       "Name: State, dtype: int64"
      ]
     },
     "execution_count": 150,
     "metadata": {},
     "output_type": "execute_result"
    }
   ],
   "source": [
    "cust_df.State.value_counts()"
   ]
  },
  {
   "cell_type": "code",
   "execution_count": 151,
   "metadata": {},
   "outputs": [],
   "source": [
    "cust_df.loc[cust_df.groupby('State').State.transform('count').eq(1), 'State'] = 'Group1'"
   ]
  },
  {
   "cell_type": "code",
   "execution_count": 152,
   "metadata": {},
   "outputs": [],
   "source": [
    "cust_df.loc[cust_df.State.isin(['Unspecified', 'Others']),'State'] = \"UNKNOWN\""
   ]
  },
  {
   "cell_type": "code",
   "execution_count": 153,
   "metadata": {},
   "outputs": [
    {
     "data": {
      "text/plain": [
       "dtype('O')"
      ]
     },
     "execution_count": 153,
     "metadata": {},
     "output_type": "execute_result"
    }
   ],
   "source": [
    "cust_df.State.dtypes"
   ]
  },
  {
   "cell_type": "code",
   "execution_count": 154,
   "metadata": {},
   "outputs": [
    {
     "data": {
      "text/plain": [
       "Unspecified                                       92896\n",
       "Others                                             4337\n",
       "Services                                           2409\n",
       "Housewife/Homemaker                                  83\n",
       "Student                                              70\n",
       "Manager                                              65\n",
       "Officer                                              50\n",
       "Engineer                                             30\n",
       "Self Employed                                        22\n",
       "Accountant                                           14\n",
       "Sales Executive                                       6\n",
       "PRESIDENT/SECY/TREASURER TO CLUB/ASSOC/SOCIETY        4\n",
       "Supervisor                                            3\n",
       "Director                                              3\n",
       "Technician                                            2\n",
       "Administartor                                         2\n",
       "Doctor                                                2\n",
       "Clerk                                                 1\n",
       "Chief Execuetive Officer                              1\n",
       "Name: Job_Type, dtype: int64"
      ]
     },
     "execution_count": 154,
     "metadata": {},
     "output_type": "execute_result"
    }
   ],
   "source": [
    "cust_df.Job_Type.value_counts()"
   ]
  },
  {
   "cell_type": "code",
   "execution_count": 155,
   "metadata": {},
   "outputs": [],
   "source": [
    "cust_df.loc[cust_df.Job_Type.isin(['PRESIDENT/SECY/TREASURER TO CLUB/ASSOC/SOCIETY', \\\n",
    "                               'Chief Execuetive Officer', 'Doctor', 'Director', 'Supervisor', 'Manager', 'Officer']), 'Job_Type'] = 'Grade1'"
   ]
  },
  {
   "cell_type": "code",
   "execution_count": 156,
   "metadata": {},
   "outputs": [],
   "source": [
    "cust_df.loc[cust_df.Job_Type.isin(['Unspecified', 'Others']),'Job_Type'] = \"UNKNOWN\""
   ]
  },
  {
   "cell_type": "code",
   "execution_count": 157,
   "metadata": {},
   "outputs": [],
   "source": [
    "cust_df.loc[cust_df.Job_Type.isin(['Housewife/Homemaker', 'Self Employed']), 'Job_Type'] = 'Grade2'"
   ]
  },
  {
   "cell_type": "code",
   "execution_count": 158,
   "metadata": {},
   "outputs": [],
   "source": [
    "cust_df.loc[cust_df.Job_Type.isin(['Sales Executive', 'Accountant', 'Administartor', 'Technician', 'Clerk']), 'Job_Type'] = 'Grade3'"
   ]
  },
  {
   "cell_type": "code",
   "execution_count": 159,
   "metadata": {},
   "outputs": [
    {
     "data": {
      "text/plain": [
       "dtype('O')"
      ]
     },
     "execution_count": 159,
     "metadata": {},
     "output_type": "execute_result"
    }
   ],
   "source": [
    "cust_df.Job_Type.dtypes"
   ]
  },
  {
   "cell_type": "code",
   "execution_count": 160,
   "metadata": {},
   "outputs": [
    {
     "data": {
      "text/plain": [
       "Unspecified    92484\n",
       "Married         6522\n",
       "Single           982\n",
       "Widowed            5\n",
       "Divorsed           4\n",
       "Separated          2\n",
       "Others             1\n",
       "Name: Marital_Status, dtype: int64"
      ]
     },
     "execution_count": 160,
     "metadata": {},
     "output_type": "execute_result"
    }
   ],
   "source": [
    "cust_df.Marital_Status.value_counts()"
   ]
  },
  {
   "cell_type": "code",
   "execution_count": 161,
   "metadata": {},
   "outputs": [],
   "source": [
    "cust_df.loc[cust_df.Marital_Status.isin(['Widowed', 'Divorsed', 'Separated']), 'Marital_Status'] = 'Others'"
   ]
  },
  {
   "cell_type": "code",
   "execution_count": 162,
   "metadata": {},
   "outputs": [],
   "source": [
    "cust_df.loc[cust_df.Marital_Status.isin(['Unspecified', 'Others']),'Marital_Status'] = \"UNKNOWN\""
   ]
  },
  {
   "cell_type": "code",
   "execution_count": 163,
   "metadata": {},
   "outputs": [
    {
     "data": {
      "text/plain": [
       "dtype('O')"
      ]
     },
     "execution_count": 163,
     "metadata": {},
     "output_type": "execute_result"
    }
   ],
   "source": [
    "cust_df.Marital_Status.dtypes"
   ]
  },
  {
   "cell_type": "code",
   "execution_count": 164,
   "metadata": {},
   "outputs": [
    {
     "data": {
      "text/plain": [
       "M              52524\n",
       "F              46063\n",
       "Unspecified     1413\n",
       "Name: Gender, dtype: int64"
      ]
     },
     "execution_count": 164,
     "metadata": {},
     "output_type": "execute_result"
    }
   ],
   "source": [
    "cust_df.Gender.value_counts()"
   ]
  },
  {
   "cell_type": "code",
   "execution_count": 165,
   "metadata": {},
   "outputs": [
    {
     "data": {
      "text/plain": [
       "English        80499\n",
       "Arabic         18476\n",
       "Unspecified     1025\n",
       "Name: Language, dtype: int64"
      ]
     },
     "execution_count": 165,
     "metadata": {},
     "output_type": "execute_result"
    }
   ],
   "source": [
    "cust_df.Language.value_counts()"
   ]
  },
  {
   "cell_type": "code",
   "execution_count": 166,
   "metadata": {},
   "outputs": [
    {
     "data": {
      "text/plain": [
       "Silver    92196\n",
       "Gold       7804\n",
       "Name: Loyalty_Status, dtype: int64"
      ]
     },
     "execution_count": 166,
     "metadata": {},
     "output_type": "execute_result"
    }
   ],
   "source": [
    "cust_df.Loyalty_Status.value_counts()"
   ]
  },
  {
   "cell_type": "code",
   "execution_count": 167,
   "metadata": {},
   "outputs": [],
   "source": [
    "cust_df.loc[cust_df.Income_Range.isin(['Unspecified', 'Unknown']),'Income_Range'] = \"UNKNOWN\""
   ]
  },
  {
   "cell_type": "code",
   "execution_count": 168,
   "metadata": {},
   "outputs": [],
   "source": [
    "# cust_df.Points.fillna('0', inplace=True)\n",
    "# from scipy.stats import norm\n",
    "# ax = sns.distplot(cust_df.Points**2, fit=norm, kde=False)\n",
    "# cust_df.Points.value_counts()"
   ]
  },
  {
   "cell_type": "code",
   "execution_count": 169,
   "metadata": {},
   "outputs": [],
   "source": [
    "# cust_df.Points = pd.cut(cust_df.Points,5, labels=[\"class1\", \"class2\", \"class3\", \"class4\", \"class5\"])"
   ]
  },
  {
   "cell_type": "code",
   "execution_count": 170,
   "metadata": {},
   "outputs": [],
   "source": [
    "cust_df.loc[cust_df.Points<=0, \"Points\"] = 0\n",
    "cust_df.loc[np.logical_and(cust_df.Points > 0,  cust_df.Points < 52), \"Points\"] = 1\n",
    "cust_df.loc[np.logical_and(cust_df.Points >= 52,  cust_df.Points < 144), \"Points\"] = 2\n",
    "cust_df.loc[np.logical_and(cust_df.Points >= 144,  cust_df.Points < 296), \"Points\"] = 3\n",
    "cust_df.loc[cust_df.Points >= 296, \"Points\"] = 4"
   ]
  },
  {
   "cell_type": "code",
   "execution_count": 171,
   "metadata": {},
   "outputs": [],
   "source": [
    "cust_df.Points = cust_df.Points.astype(int)"
   ]
  },
  {
   "cell_type": "code",
   "execution_count": 172,
   "metadata": {},
   "outputs": [
    {
     "data": {
      "image/png": "[encoded data removed]",
      "text/plain": [
       "<Figure size 432x288 with 1 Axes>"
      ]
     },
     "metadata": {
      "needs_background": "light"
     },
     "output_type": "display_data"
    }
   ],
   "source": [
    "# cust_df.Points.fillna('0', inplace=True)\n",
    "import seaborn as sns\n",
    "from scipy.stats import norm\n",
    "ax = sns.distplot(cust_df.First_txn_days, fit=norm, kde=False)"
   ]
  },
  {
   "cell_type": "code",
   "execution_count": 173,
   "metadata": {},
   "outputs": [
    {
     "data": {
      "text/plain": [
       "count    100000.000000\n",
       "mean       1546.154880\n",
       "std        1940.293916\n",
       "min         199.000000\n",
       "25%         868.000000\n",
       "50%        1420.000000\n",
       "75%        2073.000000\n",
       "max       99999.000000\n",
       "Name: First_txn_days, dtype: float64"
      ]
     },
     "execution_count": 173,
     "metadata": {},
     "output_type": "execute_result"
    }
   ],
   "source": [
    "cust_df.First_txn_days.describe()"
   ]
  },
  {
   "cell_type": "code",
   "execution_count": 174,
   "metadata": {},
   "outputs": [],
   "source": [
    "cust_df.loc[np.logical_and(cust_df.First_txn_days >= 199,  cust_df.First_txn_days < 868), \"First_txn_days\"] = 0\n",
    "cust_df.loc[np.logical_and(cust_df.First_txn_days >= 868,  cust_df.First_txn_days < 1420), \"First_txn_days\"] = 1\n",
    "cust_df.loc[np.logical_and(cust_df.First_txn_days >= 1420,  cust_df.First_txn_days < 2073), \"First_txn_days\"] = 2\n",
    "cust_df.loc[cust_df.First_txn_days >= 2073, \"First_txn_days\"] = 3"
   ]
  },
  {
   "cell_type": "code",
   "execution_count": 175,
   "metadata": {},
   "outputs": [],
   "source": [
    "cust_df.First_txn_days = cust_df.First_txn_days.astype('int')"
   ]
  },
  {
   "cell_type": "code",
   "execution_count": 176,
   "metadata": {},
   "outputs": [],
   "source": [
    "# cust_df.Last_accr_txn_days.value_counts()"
   ]
  },
  {
   "cell_type": "code",
   "execution_count": 177,
   "metadata": {},
   "outputs": [],
   "source": [
    "cust_df.loc[np.logical_and(cust_df.Last_accr_txn_days >= 73,  cust_df.Last_accr_txn_days < 95), \"Last_accr_txn_days\"] = 0\n",
    "cust_df.loc[np.logical_and(cust_df.Last_accr_txn_days >= 95,  cust_df.Last_accr_txn_days < 134), \"Last_accr_txn_days\"] = 1\n",
    "cust_df.loc[np.logical_and(cust_df.Last_accr_txn_days >= 134,  cust_df.Last_accr_txn_days < 272), \"Last_accr_txn_days\"] = 2\n",
    "cust_df.loc[cust_df.Last_accr_txn_days >= 272, \"Last_accr_txn_days\"] = 3"
   ]
  },
  {
   "cell_type": "code",
   "execution_count": 178,
   "metadata": {},
   "outputs": [],
   "source": [
    "cust_df.Last_accr_txn_days = cust_df.Last_accr_txn_days.astype('int')"
   ]
  },
  {
   "cell_type": "code",
   "execution_count": 179,
   "metadata": {},
   "outputs": [],
   "source": [
    "cust_demo = pd.read_excel(\"data/Customer_Demographics.xlsx\")"
   ]
  },
  {
   "cell_type": "code",
   "execution_count": 180,
   "metadata": {},
   "outputs": [
    {
     "data": {
      "text/plain": [
       "count    73904.000000\n",
       "mean        37.032096\n",
       "std          9.319975\n",
       "min          1.000000\n",
       "25%         31.000000\n",
       "50%         36.000000\n",
       "75%         42.000000\n",
       "max        137.000000\n",
       "Name: Age, dtype: float64"
      ]
     },
     "execution_count": 180,
     "metadata": {},
     "output_type": "execute_result"
    }
   ],
   "source": [
    "cust_demo.Age.describe()"
   ]
  },
  {
   "cell_type": "code",
   "execution_count": 181,
   "metadata": {},
   "outputs": [],
   "source": [
    "cust_demo.Age.fillna(34, inplace=True)"
   ]
  },
  {
   "cell_type": "code",
   "execution_count": 182,
   "metadata": {},
   "outputs": [],
   "source": [
    "cust_demo.loc[np.logical_and(cust_demo.Age >= 1,  cust_demo.Age < 31), \"Age\"] = 0\n",
    "cust_demo.loc[np.logical_and(cust_demo.Age >= 31,  cust_demo.Age < 36), \"Age\"] = 1\n",
    "cust_demo.loc[np.logical_and(cust_demo.Age >= 36,  cust_demo.Age < 42), \"Age\"] = 2\n",
    "cust_demo.loc[cust_demo.Age >= 42, \"Age\"] = 3"
   ]
  },
  {
   "cell_type": "code",
   "execution_count": 183,
   "metadata": {},
   "outputs": [],
   "source": [
    "cust_df['Age'] = cust_demo.Age"
   ]
  },
  {
   "cell_type": "code",
   "execution_count": 184,
   "metadata": {},
   "outputs": [],
   "source": [
    "cust_df['Age'] = cust_df['Age'].astype('int')"
   ]
  },
  {
   "cell_type": "code",
   "execution_count": 185,
   "metadata": {},
   "outputs": [
    {
     "data": {
      "text/plain": [
       "0"
      ]
     },
     "execution_count": 185,
     "metadata": {},
     "output_type": "execute_result"
    }
   ],
   "source": [
    "cust_demo.Age[cust_demo.Age>80].count()"
   ]
  },
  {
   "cell_type": "code",
   "execution_count": 186,
   "metadata": {},
   "outputs": [
    {
     "data": {
      "image/png": "[encoded data removed]",
      "text/plain": [
       "<Figure size 432x288 with 1 Axes>"
      ]
     },
     "metadata": {
      "needs_background": "light"
     },
     "output_type": "display_data"
    }
   ],
   "source": [
    "from scipy.stats import norm\n",
    "ax = sns.distplot(cust_demo.Age, fit=norm, kde=False)"
   ]
  },
  {
   "cell_type": "code",
   "execution_count": 187,
   "metadata": {},
   "outputs": [
    {
     "data": {
      "text/plain": [
       "1    44077\n",
       "3    20151\n",
       "2    18497\n",
       "0    17275\n",
       "Name: Age, dtype: int64"
      ]
     },
     "execution_count": 187,
     "metadata": {},
     "output_type": "execute_result"
    }
   ],
   "source": [
    "cust_df.Age.value_counts()"
   ]
  },
  {
   "cell_type": "code",
   "execution_count": 188,
   "metadata": {},
   "outputs": [],
   "source": [
    "# cust_df.to_csv(\"cust_df.csv\", index=False)"
   ]
  },
  {
   "cell_type": "code",
   "execution_count": 189,
   "metadata": {},
   "outputs": [
    {
     "data": {
      "text/plain": [
       "Customer_ID            int64\n",
       "Nationality           object\n",
       "Income_Range          object\n",
       "Job_Type              object\n",
       "Marital_Status        object\n",
       "Gender                object\n",
       "State                 object\n",
       "Language              object\n",
       "Loyalty_Status        object\n",
       "Points                 int64\n",
       "First_txn_days         int64\n",
       "Last_accr_txn_days     int64\n",
       "Age                    int64\n",
       "dtype: object"
      ]
     },
     "execution_count": 189,
     "metadata": {},
     "output_type": "execute_result"
    }
   ],
   "source": [
    "cust_df.dtypes"
   ]
  },
  {
   "cell_type": "code",
   "execution_count": 190,
   "metadata": {},
   "outputs": [
    {
     "data": {
      "text/plain": [
       "1    44077\n",
       "3    20151\n",
       "2    18497\n",
       "0    17275\n",
       "Name: Age, dtype: int64"
      ]
     },
     "execution_count": 190,
     "metadata": {},
     "output_type": "execute_result"
    }
   ],
   "source": [
    "cust_df.Age.value_counts()"
   ]
  },
  {
   "cell_type": "code",
   "execution_count": 191,
   "metadata": {},
   "outputs": [],
   "source": [
    "cols = cust_df.select_dtypes(include=[np.object]).columns"
   ]
  },
  {
   "cell_type": "code",
   "execution_count": 192,
   "metadata": {},
   "outputs": [],
   "source": [
    "# cust_df.join(pd.get_dummies(cust_df.select_dtypes(include=[np.object])))\n",
    "from sklearn import preprocessing\n",
    "le = preprocessing.LabelEncoder()\n",
    "cust_df[cols] = cust_df[cols].apply(le.fit_transform)"
   ]
  },
  {
   "cell_type": "code",
   "execution_count": 193,
   "metadata": {},
   "outputs": [
    {
     "data": {
      "text/plain": [
       "13"
      ]
     },
     "execution_count": 193,
     "metadata": {},
     "output_type": "execute_result"
    }
   ],
   "source": [
    "len(cust_df.columns)"
   ]
  },
  {
   "cell_type": "code",
   "execution_count": 194,
   "metadata": {},
   "outputs": [
    {
     "data": {
      "text/html": [
       "<div>\n",
       "<style scoped>\n",
       "    .dataframe tbody tr th:only-of-type {\n",
       "        vertical-align: middle;\n",
       "    }\n",
       "\n",
       "    .dataframe tbody tr th {\n",
       "        vertical-align: top;\n",
       "    }\n",
       "\n",
       "    .dataframe thead th {\n",
       "        text-align: right;\n",
       "    }\n",
       "</style>\n",
       "<table border=\"1\" class=\"dataframe\">\n",
       "  <thead>\n",
       "    <tr style=\"text-align: right;\">\n",
       "      <th></th>\n",
       "      <th>Customer_ID</th>\n",
       "      <th>Nationality</th>\n",
       "      <th>Income_Range</th>\n",
       "      <th>Job_Type</th>\n",
       "      <th>Marital_Status</th>\n",
       "      <th>Gender</th>\n",
       "      <th>State</th>\n",
       "      <th>Language</th>\n",
       "      <th>Loyalty_Status</th>\n",
       "      <th>Points</th>\n",
       "      <th>First_txn_days</th>\n",
       "      <th>Last_accr_txn_days</th>\n",
       "      <th>Age</th>\n",
       "    </tr>\n",
       "  </thead>\n",
       "  <tbody>\n",
       "    <tr>\n",
       "      <th>0</th>\n",
       "      <td>1800000006365760</td>\n",
       "      <td>52</td>\n",
       "      <td>4</td>\n",
       "      <td>4</td>\n",
       "      <td>0</td>\n",
       "      <td>1</td>\n",
       "      <td>0</td>\n",
       "      <td>1</td>\n",
       "      <td>0</td>\n",
       "      <td>4</td>\n",
       "      <td>3</td>\n",
       "      <td>0</td>\n",
       "      <td>3</td>\n",
       "    </tr>\n",
       "  </tbody>\n",
       "</table>\n",
       "</div>"
      ],
      "text/plain": [
       "        Customer_ID  Nationality  Income_Range  Job_Type  Marital_Status  \\\n",
       "0  1800000006365760           52             4         4               0   \n",
       "\n",
       "   Gender  State  Language  Loyalty_Status  Points  First_txn_days  \\\n",
       "0       1      0         1               0       4               3   \n",
       "\n",
       "   Last_accr_txn_days  Age  \n",
       "0                   0    3  "
      ]
     },
     "execution_count": 194,
     "metadata": {},
     "output_type": "execute_result"
    }
   ],
   "source": [
    "cust_df.head(1)"
   ]
  },
  {
   "cell_type": "code",
   "execution_count": 195,
   "metadata": {},
   "outputs": [],
   "source": [
    "cust_df.to_csv(\"cust_df.csv\", index=False)"
   ]
  },
  {
   "cell_type": "markdown",
   "metadata": {},
   "source": [
    "# STORE"
   ]
  },
  {
   "cell_type": "code",
   "execution_count": 196,
   "metadata": {},
   "outputs": [],
   "source": [
    "store = pd.read_excel('data/Store_Master.xlsx')"
   ]
  },
  {
   "cell_type": "code",
   "execution_count": 197,
   "metadata": {},
   "outputs": [],
   "source": [
    "store.Geo_Field.fillna(\"UNKNOWN\", inplace=True)"
   ]
  },
  {
   "cell_type": "code",
   "execution_count": 198,
   "metadata": {},
   "outputs": [
    {
     "data": {
      "text/html": [
       "<div>\n",
       "<style scoped>\n",
       "    .dataframe tbody tr th:only-of-type {\n",
       "        vertical-align: middle;\n",
       "    }\n",
       "\n",
       "    .dataframe tbody tr th {\n",
       "        vertical-align: top;\n",
       "    }\n",
       "\n",
       "    .dataframe thead th {\n",
       "        text-align: right;\n",
       "    }\n",
       "</style>\n",
       "<table border=\"1\" class=\"dataframe\">\n",
       "  <thead>\n",
       "    <tr style=\"text-align: right;\">\n",
       "      <th></th>\n",
       "      <th>Territory</th>\n",
       "      <th>Business</th>\n",
       "      <th>Region</th>\n",
       "      <th>Region_Code</th>\n",
       "      <th>Store_Code</th>\n",
       "      <th>Store_Name</th>\n",
       "      <th>Mall_Name</th>\n",
       "      <th>Store_Format</th>\n",
       "      <th>Sales_Per_Day</th>\n",
       "      <th>Store_Launch_Date</th>\n",
       "      <th>Train_Test_Store</th>\n",
       "      <th>Geo_Field</th>\n",
       "      <th>Store_Size_Sq_Ft</th>\n",
       "      <th>Customer_Count</th>\n",
       "      <th>Total_Revenue</th>\n",
       "    </tr>\n",
       "  </thead>\n",
       "  <tbody>\n",
       "    <tr>\n",
       "      <th>30</th>\n",
       "      <td>United Arab Emirates</td>\n",
       "      <td>Max</td>\n",
       "      <td>MX - Abu Dhabi</td>\n",
       "      <td>602</td>\n",
       "      <td>60275</td>\n",
       "      <td>Max Makhani Zakher</td>\n",
       "      <td>Abu Dhabi Co-Op Mall-UAE</td>\n",
       "      <td>NaN</td>\n",
       "      <td>498.182287</td>\n",
       "      <td>2017-03-20</td>\n",
       "      <td>Train</td>\n",
       "      <td>24.503005, 54.382945</td>\n",
       "      <td>2178.431368</td>\n",
       "      <td>13669.0</td>\n",
       "      <td>5271266.780</td>\n",
       "    </tr>\n",
       "    <tr>\n",
       "      <th>31</th>\n",
       "      <td>United Arab Emirates</td>\n",
       "      <td>Max</td>\n",
       "      <td>MX - Abu Dhabi</td>\n",
       "      <td>602</td>\n",
       "      <td>60301</td>\n",
       "      <td>MAX- Abudhabi Al Wahda</td>\n",
       "      <td>AL Wahda</td>\n",
       "      <td>Mall Stores</td>\n",
       "      <td>10861.009520</td>\n",
       "      <td>2018-01-30</td>\n",
       "      <td>Test</td>\n",
       "      <td>24.470587, 54.372679</td>\n",
       "      <td>23288.338616</td>\n",
       "      <td>NaN</td>\n",
       "      <td>7472374.550</td>\n",
       "    </tr>\n",
       "    <tr>\n",
       "      <th>32</th>\n",
       "      <td>United Arab Emirates</td>\n",
       "      <td>Max</td>\n",
       "      <td>MX - Sharjah</td>\n",
       "      <td>606</td>\n",
       "      <td>60298</td>\n",
       "      <td>MAX - Matejer Al Juraina</td>\n",
       "      <td>Matejer Al Juraina</td>\n",
       "      <td>Mall Stores</td>\n",
       "      <td>4099.543401</td>\n",
       "      <td>2018-01-07</td>\n",
       "      <td>Test</td>\n",
       "      <td>25.296484, 55.489202</td>\n",
       "      <td>8391.589347</td>\n",
       "      <td>NaN</td>\n",
       "      <td>2820485.860</td>\n",
       "    </tr>\n",
       "    <tr>\n",
       "      <th>33</th>\n",
       "      <td>United Arab Emirates</td>\n",
       "      <td>Max</td>\n",
       "      <td>MX - Abu Dhabi</td>\n",
       "      <td>602</td>\n",
       "      <td>60300</td>\n",
       "      <td>MAX-WTC</td>\n",
       "      <td>WTC</td>\n",
       "      <td>Mall Stores</td>\n",
       "      <td>7036.233391</td>\n",
       "      <td>2018-02-01</td>\n",
       "      <td>Test</td>\n",
       "      <td>24.487658, 54.357529</td>\n",
       "      <td>6604.762130</td>\n",
       "      <td>NaN</td>\n",
       "      <td>2701913.622</td>\n",
       "    </tr>\n",
       "    <tr>\n",
       "      <th>34</th>\n",
       "      <td>United Arab Emirates</td>\n",
       "      <td>Max</td>\n",
       "      <td>MX - Abu Dhabi</td>\n",
       "      <td>602</td>\n",
       "      <td>60299</td>\n",
       "      <td>MAX-Alain Mall</td>\n",
       "      <td>Alain Mall</td>\n",
       "      <td>Mall Stores</td>\n",
       "      <td>5157.825699</td>\n",
       "      <td>2018-02-01</td>\n",
       "      <td>Test</td>\n",
       "      <td>24.222016, 55.781629</td>\n",
       "      <td>3266.388547</td>\n",
       "      <td>NaN</td>\n",
       "      <td>479677.790</td>\n",
       "    </tr>\n",
       "  </tbody>\n",
       "</table>\n",
       "</div>"
      ],
      "text/plain": [
       "               Territory Business          Region  Region_Code  Store_Code  \\\n",
       "30  United Arab Emirates      Max  MX - Abu Dhabi          602       60275   \n",
       "31  United Arab Emirates      Max  MX - Abu Dhabi          602       60301   \n",
       "32  United Arab Emirates      Max    MX - Sharjah          606       60298   \n",
       "33  United Arab Emirates      Max  MX - Abu Dhabi          602       60300   \n",
       "34  United Arab Emirates      Max  MX - Abu Dhabi          602       60299   \n",
       "\n",
       "                  Store_Name                 Mall_Name Store_Format  \\\n",
       "30        Max Makhani Zakher  Abu Dhabi Co-Op Mall-UAE          NaN   \n",
       "31    MAX- Abudhabi Al Wahda                  AL Wahda  Mall Stores   \n",
       "32  MAX - Matejer Al Juraina        Matejer Al Juraina  Mall Stores   \n",
       "33                   MAX-WTC                       WTC  Mall Stores   \n",
       "34            MAX-Alain Mall                Alain Mall  Mall Stores   \n",
       "\n",
       "    Sales_Per_Day Store_Launch_Date Train_Test_Store             Geo_Field  \\\n",
       "30     498.182287        2017-03-20            Train  24.503005, 54.382945   \n",
       "31   10861.009520        2018-01-30             Test  24.470587, 54.372679   \n",
       "32    4099.543401        2018-01-07             Test  25.296484, 55.489202   \n",
       "33    7036.233391        2018-02-01             Test  24.487658, 54.357529   \n",
       "34    5157.825699        2018-02-01             Test  24.222016, 55.781629   \n",
       "\n",
       "    Store_Size_Sq_Ft  Customer_Count  Total_Revenue  \n",
       "30       2178.431368         13669.0    5271266.780  \n",
       "31      23288.338616             NaN    7472374.550  \n",
       "32       8391.589347             NaN    2820485.860  \n",
       "33       6604.762130             NaN    2701913.622  \n",
       "34       3266.388547             NaN     479677.790  "
      ]
     },
     "execution_count": 198,
     "metadata": {},
     "output_type": "execute_result"
    }
   ],
   "source": [
    "store.tail()"
   ]
  },
  {
   "cell_type": "code",
   "execution_count": 199,
   "metadata": {},
   "outputs": [],
   "source": [
    "store[\"isMall\"] = 1\n",
    "store.loc[store[\"Mall_Name\"] == \"STANDALONE\" ,\"isMall\"] = 0"
   ]
  },
  {
   "cell_type": "code",
   "execution_count": 200,
   "metadata": {},
   "outputs": [],
   "source": [
    "# dropping columns which has no distinct values or not useful\n",
    "store.drop(['Territory', 'Business', 'Store_Name', 'Mall_Name', 'Train_Test_Store','Customer_Count', 'Total_Revenue',\\\n",
    "            'Store_Launch_Date', 'Region' ], inplace=True, axis=1)"
   ]
  },
  {
   "cell_type": "code",
   "execution_count": 201,
   "metadata": {},
   "outputs": [],
   "source": [
    "store.Store_Format.fillna(\"Mall Stores\", inplace=True)"
   ]
  },
  {
   "cell_type": "code",
   "execution_count": 202,
   "metadata": {},
   "outputs": [
    {
     "data": {
      "text/html": [
       "<div>\n",
       "<style scoped>\n",
       "    .dataframe tbody tr th:only-of-type {\n",
       "        vertical-align: middle;\n",
       "    }\n",
       "\n",
       "    .dataframe tbody tr th {\n",
       "        vertical-align: top;\n",
       "    }\n",
       "\n",
       "    .dataframe thead th {\n",
       "        text-align: right;\n",
       "    }\n",
       "</style>\n",
       "<table border=\"1\" class=\"dataframe\">\n",
       "  <thead>\n",
       "    <tr style=\"text-align: right;\">\n",
       "      <th></th>\n",
       "      <th>Region_Code</th>\n",
       "      <th>Store_Code</th>\n",
       "      <th>Store_Format</th>\n",
       "      <th>Sales_Per_Day</th>\n",
       "      <th>Geo_Field</th>\n",
       "      <th>Store_Size_Sq_Ft</th>\n",
       "      <th>isMall</th>\n",
       "    </tr>\n",
       "  </thead>\n",
       "  <tbody>\n",
       "    <tr>\n",
       "      <th>30</th>\n",
       "      <td>602</td>\n",
       "      <td>60275</td>\n",
       "      <td>Mall Stores</td>\n",
       "      <td>498.182287</td>\n",
       "      <td>24.503005, 54.382945</td>\n",
       "      <td>2178.431368</td>\n",
       "      <td>1</td>\n",
       "    </tr>\n",
       "    <tr>\n",
       "      <th>31</th>\n",
       "      <td>602</td>\n",
       "      <td>60301</td>\n",
       "      <td>Mall Stores</td>\n",
       "      <td>10861.009520</td>\n",
       "      <td>24.470587, 54.372679</td>\n",
       "      <td>23288.338616</td>\n",
       "      <td>1</td>\n",
       "    </tr>\n",
       "    <tr>\n",
       "      <th>32</th>\n",
       "      <td>606</td>\n",
       "      <td>60298</td>\n",
       "      <td>Mall Stores</td>\n",
       "      <td>4099.543401</td>\n",
       "      <td>25.296484, 55.489202</td>\n",
       "      <td>8391.589347</td>\n",
       "      <td>1</td>\n",
       "    </tr>\n",
       "    <tr>\n",
       "      <th>33</th>\n",
       "      <td>602</td>\n",
       "      <td>60300</td>\n",
       "      <td>Mall Stores</td>\n",
       "      <td>7036.233391</td>\n",
       "      <td>24.487658, 54.357529</td>\n",
       "      <td>6604.762130</td>\n",
       "      <td>1</td>\n",
       "    </tr>\n",
       "    <tr>\n",
       "      <th>34</th>\n",
       "      <td>602</td>\n",
       "      <td>60299</td>\n",
       "      <td>Mall Stores</td>\n",
       "      <td>5157.825699</td>\n",
       "      <td>24.222016, 55.781629</td>\n",
       "      <td>3266.388547</td>\n",
       "      <td>1</td>\n",
       "    </tr>\n",
       "  </tbody>\n",
       "</table>\n",
       "</div>"
      ],
      "text/plain": [
       "    Region_Code  Store_Code Store_Format  Sales_Per_Day             Geo_Field  \\\n",
       "30          602       60275  Mall Stores     498.182287  24.503005, 54.382945   \n",
       "31          602       60301  Mall Stores   10861.009520  24.470587, 54.372679   \n",
       "32          606       60298  Mall Stores    4099.543401  25.296484, 55.489202   \n",
       "33          602       60300  Mall Stores    7036.233391  24.487658, 54.357529   \n",
       "34          602       60299  Mall Stores    5157.825699  24.222016, 55.781629   \n",
       "\n",
       "    Store_Size_Sq_Ft  isMall  \n",
       "30       2178.431368       1  \n",
       "31      23288.338616       1  \n",
       "32       8391.589347       1  \n",
       "33       6604.762130       1  \n",
       "34       3266.388547       1  "
      ]
     },
     "execution_count": 202,
     "metadata": {},
     "output_type": "execute_result"
    }
   ],
   "source": [
    "store.tail()"
   ]
  },
  {
   "cell_type": "code",
   "execution_count": 203,
   "metadata": {},
   "outputs": [
    {
     "data": {
      "text/plain": [
       "Region_Code           int64\n",
       "Store_Code            int64\n",
       "Store_Format         object\n",
       "Sales_Per_Day       float64\n",
       "Geo_Field            object\n",
       "Store_Size_Sq_Ft    float64\n",
       "isMall                int64\n",
       "dtype: object"
      ]
     },
     "execution_count": 203,
     "metadata": {},
     "output_type": "execute_result"
    }
   ],
   "source": [
    "store.dtypes"
   ]
  },
  {
   "cell_type": "code",
   "execution_count": 204,
   "metadata": {},
   "outputs": [],
   "source": [
    "store.Region_Code = store.Region_Code.astype('object')"
   ]
  },
  {
   "cell_type": "code",
   "execution_count": 205,
   "metadata": {},
   "outputs": [
    {
     "data": {
      "text/plain": [
       "2053.035168     1\n",
       "1045.779749     1\n",
       "1965.523053     1\n",
       "10861.009520    1\n",
       "773.945840      1\n",
       "3319.885702     1\n",
       "4462.359330     1\n",
       "2166.127477     1\n",
       "3774.638096     1\n",
       "369.319201      1\n",
       "1699.560982     1\n",
       "2036.012120     1\n",
       "1331.402147     1\n",
       "2265.965914     1\n",
       "2221.872874     1\n",
       "2943.555700     1\n",
       "4099.543401     1\n",
       "1974.963188     1\n",
       "2101.072259     1\n",
       "5157.825699     1\n",
       "1251.656549     1\n",
       "1193.119529     1\n",
       "1813.094697     1\n",
       "1938.614747     1\n",
       "3090.542301     1\n",
       "544.074849      1\n",
       "2537.820097     1\n",
       "1211.477261     1\n",
       "759.095717      1\n",
       "3094.424495     1\n",
       "2268.223683     1\n",
       "3330.695720     1\n",
       "7036.233391     1\n",
       "498.182287      1\n",
       "2631.139338     1\n",
       "Name: Sales_Per_Day, dtype: int64"
      ]
     },
     "execution_count": 205,
     "metadata": {},
     "output_type": "execute_result"
    }
   ],
   "source": [
    "store.Sales_Per_Day.value_counts()"
   ]
  },
  {
   "cell_type": "code",
   "execution_count": 206,
   "metadata": {},
   "outputs": [],
   "source": [
    "store.loc[np.logical_and(store.Sales_Per_Day >= 369.319201,  store.Sales_Per_Day < 1291.529348), \"Sales_Per_Day\"] = 0\n",
    "store.loc[np.logical_and(store.Sales_Per_Day >= 1291.529348,  store.Sales_Per_Day < 2101.072259), \"Sales_Per_Day\"] = 1\n",
    "store.loc[np.logical_and(store.Sales_Per_Day >= 2101.072259,  store.Sales_Per_Day < 3092.483398), \"Sales_Per_Day\"] = 2\n",
    "store.loc[store.Sales_Per_Day >= 3092.483398, \"Sales_Per_Day\"] = 3"
   ]
  },
  {
   "cell_type": "code",
   "execution_count": 207,
   "metadata": {},
   "outputs": [
    {
     "data": {
      "text/plain": [
       "8317.736752     1\n",
       "6604.762130     1\n",
       "3467.799125     1\n",
       "4189.720206     1\n",
       "9654.989644     1\n",
       "6845.497058     1\n",
       "7846.686536     1\n",
       "10085.472996    1\n",
       "15609.687991    1\n",
       "15897.142270    1\n",
       "3699.470014     1\n",
       "22866.922575    1\n",
       "19200.122169    1\n",
       "8391.589347     1\n",
       "13789.949661    1\n",
       "3266.388547     1\n",
       "23368.665000    1\n",
       "4852.220341     1\n",
       "12950.629513    1\n",
       "9582.354867     1\n",
       "2708.813317     1\n",
       "8162.046109     1\n",
       "8792.292763     1\n",
       "12425.516106    1\n",
       "93125.240189    1\n",
       "6698.117964     1\n",
       "16455.386430    1\n",
       "19003.694395    1\n",
       "2178.431368     1\n",
       "18277.772523    1\n",
       "8673.534535     1\n",
       "23288.338616    1\n",
       "6093.498908     1\n",
       "12385.047461    1\n",
       "4579.081667     1\n",
       "Name: Store_Size_Sq_Ft, dtype: int64"
      ]
     },
     "execution_count": 207,
     "metadata": {},
     "output_type": "execute_result"
    }
   ],
   "source": [
    "store.Store_Size_Sq_Ft.value_counts()"
   ]
  },
  {
   "cell_type": "code",
   "execution_count": 208,
   "metadata": {},
   "outputs": [],
   "source": [
    "store.loc[np.logical_and(store.Store_Size_Sq_Ft >= 2178.431368,  store.Store_Size_Sq_Ft < 6349.130519), \"Store_Size_Sq_Ft\"] = 0\n",
    "store.loc[np.logical_and(store.Store_Size_Sq_Ft >= 6349.130519,  store.Store_Size_Sq_Ft < 8792.292763), \"Store_Size_Sq_Ft\"] = 1\n",
    "store.loc[np.logical_and(store.Store_Size_Sq_Ft >= 8792.292763,  store.Store_Size_Sq_Ft < 15753.415130), \"Store_Size_Sq_Ft\"] = 2\n",
    "store.loc[store.Store_Size_Sq_Ft >= 15753.415130, \"Store_Size_Sq_Ft\"] = 3"
   ]
  },
  {
   "cell_type": "code",
   "execution_count": 209,
   "metadata": {},
   "outputs": [],
   "source": [
    "# store = store.join(pd.get_dummies(store.select_dtypes(include=[np.object])))"
   ]
  },
  {
   "cell_type": "code",
   "execution_count": 210,
   "metadata": {},
   "outputs": [
    {
     "data": {
      "text/html": [
       "<div>\n",
       "<style scoped>\n",
       "    .dataframe tbody tr th:only-of-type {\n",
       "        vertical-align: middle;\n",
       "    }\n",
       "\n",
       "    .dataframe tbody tr th {\n",
       "        vertical-align: top;\n",
       "    }\n",
       "\n",
       "    .dataframe thead th {\n",
       "        text-align: right;\n",
       "    }\n",
       "</style>\n",
       "<table border=\"1\" class=\"dataframe\">\n",
       "  <thead>\n",
       "    <tr style=\"text-align: right;\">\n",
       "      <th></th>\n",
       "      <th>Region_Code</th>\n",
       "      <th>Store_Code</th>\n",
       "      <th>Store_Format</th>\n",
       "      <th>Sales_Per_Day</th>\n",
       "      <th>Geo_Field</th>\n",
       "      <th>Store_Size_Sq_Ft</th>\n",
       "      <th>isMall</th>\n",
       "    </tr>\n",
       "  </thead>\n",
       "  <tbody>\n",
       "    <tr>\n",
       "      <th>0</th>\n",
       "      <td>602</td>\n",
       "      <td>60077</td>\n",
       "      <td>Mall Stores</td>\n",
       "      <td>0.0</td>\n",
       "      <td>25.618167, 53.441646</td>\n",
       "      <td>0.0</td>\n",
       "      <td>1</td>\n",
       "    </tr>\n",
       "  </tbody>\n",
       "</table>\n",
       "</div>"
      ],
      "text/plain": [
       "  Region_Code  Store_Code Store_Format  Sales_Per_Day             Geo_Field  \\\n",
       "0         602       60077  Mall Stores            0.0  25.618167, 53.441646   \n",
       "\n",
       "   Store_Size_Sq_Ft  isMall  \n",
       "0               0.0       1  "
      ]
     },
     "execution_count": 210,
     "metadata": {},
     "output_type": "execute_result"
    }
   ],
   "source": [
    "store.head(1)"
   ]
  },
  {
   "cell_type": "code",
   "execution_count": 211,
   "metadata": {},
   "outputs": [
    {
     "data": {
      "text/plain": [
       "Index(['Region_Code', 'Store_Format', 'Geo_Field'], dtype='object')"
      ]
     },
     "execution_count": 211,
     "metadata": {},
     "output_type": "execute_result"
    }
   ],
   "source": [
    "store.select_dtypes(include=[np.object]).columns"
   ]
  },
  {
   "cell_type": "code",
   "execution_count": 212,
   "metadata": {},
   "outputs": [],
   "source": [
    "cols = store.select_dtypes(include=[np.object]).columns"
   ]
  },
  {
   "cell_type": "code",
   "execution_count": 213,
   "metadata": {},
   "outputs": [],
   "source": [
    "# cust_df.join(pd.get_dummies(cust_df.select_dtypes(include=[np.object])))\n",
    "from sklearn import preprocessing\n",
    "le = preprocessing.LabelEncoder()\n",
    "store[cols] = store[cols].apply(le.fit_transform)"
   ]
  },
  {
   "cell_type": "code",
   "execution_count": 214,
   "metadata": {},
   "outputs": [],
   "source": [
    "store.to_csv(\"store_df.csv\", index=False)"
   ]
  },
  {
   "cell_type": "code",
   "execution_count": 215,
   "metadata": {},
   "outputs": [
    {
     "data": {
      "text/html": [
       "<div>\n",
       "<style scoped>\n",
       "    .dataframe tbody tr th:only-of-type {\n",
       "        vertical-align: middle;\n",
       "    }\n",
       "\n",
       "    .dataframe tbody tr th {\n",
       "        vertical-align: top;\n",
       "    }\n",
       "\n",
       "    .dataframe thead th {\n",
       "        text-align: right;\n",
       "    }\n",
       "</style>\n",
       "<table border=\"1\" class=\"dataframe\">\n",
       "  <thead>\n",
       "    <tr style=\"text-align: right;\">\n",
       "      <th></th>\n",
       "      <th>Region_Code</th>\n",
       "      <th>Store_Code</th>\n",
       "      <th>Store_Format</th>\n",
       "      <th>Sales_Per_Day</th>\n",
       "      <th>Geo_Field</th>\n",
       "      <th>Store_Size_Sq_Ft</th>\n",
       "      <th>isMall</th>\n",
       "    </tr>\n",
       "  </thead>\n",
       "  <tbody>\n",
       "    <tr>\n",
       "      <th>0</th>\n",
       "      <td>1</td>\n",
       "      <td>60077</td>\n",
       "      <td>0</td>\n",
       "      <td>0.0</td>\n",
       "      <td>24</td>\n",
       "      <td>0.0</td>\n",
       "      <td>1</td>\n",
       "    </tr>\n",
       "  </tbody>\n",
       "</table>\n",
       "</div>"
      ],
      "text/plain": [
       "   Region_Code  Store_Code  Store_Format  Sales_Per_Day  Geo_Field  \\\n",
       "0            1       60077             0            0.0         24   \n",
       "\n",
       "   Store_Size_Sq_Ft  isMall  \n",
       "0               0.0       1  "
      ]
     },
     "execution_count": 215,
     "metadata": {},
     "output_type": "execute_result"
    }
   ],
   "source": [
    "store.head(1)"
   ]
  },
  {
   "cell_type": "code",
   "execution_count": null,
   "metadata": {},
   "outputs": [],
   "source": []
  }
 ],
 "metadata": {
  "accelerator": "TPU",
  "colab": {
   "collapsed_sections": [],
   "name": "Modelling_Hackathon.ipynb",
   "provenance": [],
   "version": "0.3.2"
  },
  "kernelspec": {
   "display_name": "3point6",
   "language": "python",
   "name": "3point6"
  },
  "language_info": {
   "codemirror_mode": {
    "name": "ipython",
    "version": 3
   },
   "file_extension": ".py",
   "mimetype": "text/x-python",
   "name": "python",
   "nbconvert_exporter": "python",
   "pygments_lexer": "ipython3",
   "version": "3.6.6"
  }
 },
 "nbformat": 4,
 "nbformat_minor": 1
}
